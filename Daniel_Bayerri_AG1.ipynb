{
  "nbformat": 4,
  "nbformat_minor": 0,
  "metadata": {
    "colab": {
      "name": "Daniel_Bayerri_AG1.ipynb",
      "provenance": [],
      "collapsed_sections": [],
      "toc_visible": true,
      "include_colab_link": true
    },
    "kernelspec": {
      "name": "python3",
      "display_name": "Python 3"
    },
    "language_info": {
      "name": "python"
    }
  },
  "cells": [
    {
      "cell_type": "markdown",
      "metadata": {
        "id": "view-in-github",
        "colab_type": "text"
      },
      "source": [
        "<a href=\"https://colab.research.google.com/github/DanielBayerri/03MAIR--Algoritmos-de-Optimizacion---2021/blob/main/Daniel_Bayerri_AG1.ipynb\" target=\"_parent\"><img src=\"https://colab.research.google.com/assets/colab-badge.svg\" alt=\"Open In Colab\"/></a>"
      ]
    },
    {
      "cell_type": "markdown",
      "metadata": {
        "id": "GG2D6vLdYwwy"
      },
      "source": [
        "Actividad Guiada 1 de Algoritmos de Optimizacion\n",
        "\n",
        "Nombre: DANIEL BAYERRI ORTEGA\n",
        "\n",
        "https://colab.research.google.com/drive/1O7ZCONXsSdVkipFtM7CmPcHQuFZQSWPS?usp=sharing\n",
        "\n",
        "https://github.com/DanielBayerri/03MAIR--Algoritmos-de-Optimizacion---2021"
      ]
    },
    {
      "cell_type": "code",
      "source": [
        "import math"
      ],
      "metadata": {
        "id": "0puXpqShRse5"
      },
      "execution_count": 21,
      "outputs": []
    },
    {
      "cell_type": "code",
      "source": [
        ""
      ],
      "metadata": {
        "id": "Ga-LLQKdrQHI"
      },
      "execution_count": null,
      "outputs": []
    },
    {
      "cell_type": "code",
      "metadata": {
        "id": "rTiqLuX2ZKuL"
      },
      "source": [
        "#TORRES DE HANOI - DIVIDE Y VENCERAS\n",
        "################################################################################\n",
        "\n",
        "# Dividimos el problema en movimientos con menos bloques y aplicamos recursividad.\n",
        "\n",
        "################################################################################\n",
        "def Torres_Hanoi(n, desde, hasta):\n",
        "  #n = nº de fichas\n",
        "  #desde = torre inicial\n",
        "  #hasta = torre final\n",
        "\n",
        "  if n==1 :  #torre de una sola ficha\n",
        "    print(\"Lleva la ficha desde \" + str(desde) + \" hasta \" + str(hasta))\n",
        "\n",
        "  else:\n",
        "    Torres_Hanoi(n-1, desde, 6-desde-hasta) #movemos la ficha de la posición inicial a la posición de pivote\n",
        "    print(\"Lleva la ficha desde \" + str(desde) + \" hasta \" + str(hasta))\n",
        "    Torres_Hanoi(n-1, 6-desde-hasta,  hasta) #movemos la ficha de la posición pivote hasta la posición final\n",
        "\n",
        "################################################################################"
      ],
      "execution_count": 22,
      "outputs": []
    },
    {
      "cell_type": "code",
      "metadata": {
        "id": "UTL6wiczQVDA",
        "colab": {
          "base_uri": "https://localhost:8080/"
        },
        "outputId": "182cbfd5-442e-4bff-925b-297a3106f119"
      },
      "source": [
        "# La torre de 1 ficha de la posición 1 se mueva a la posición 3\n",
        "Torres_Hanoi(1,1,3)"
      ],
      "execution_count": 23,
      "outputs": [
        {
          "output_type": "stream",
          "name": "stdout",
          "text": [
            "Lleva la ficha desde 1 hasta 3\n"
          ]
        }
      ]
    },
    {
      "cell_type": "code",
      "source": [
        "# La torre de 1 ficha de la posición 1 se mueva a la posición 3\n",
        "Torres_Hanoi(3,1,3)"
      ],
      "metadata": {
        "colab": {
          "base_uri": "https://localhost:8080/"
        },
        "id": "y6SxlrGde35e",
        "outputId": "b6757d43-0c71-4670-d748-077e118dcfa9"
      },
      "execution_count": 24,
      "outputs": [
        {
          "output_type": "stream",
          "name": "stdout",
          "text": [
            "Lleva la ficha desde 1 hasta 3\n",
            "Lleva la ficha desde 1 hasta 2\n",
            "Lleva la ficha desde 3 hasta 2\n",
            "Lleva la ficha desde 1 hasta 3\n",
            "Lleva la ficha desde 2 hasta 1\n",
            "Lleva la ficha desde 2 hasta 3\n",
            "Lleva la ficha desde 1 hasta 3\n"
          ]
        }
      ]
    },
    {
      "cell_type": "code",
      "source": [
        "# La torre de 6 fichas de la posición 1 se mueva a la posición 3\n",
        "Torres_Hanoi(6, 1, 3)"
      ],
      "metadata": {
        "colab": {
          "base_uri": "https://localhost:8080/"
        },
        "id": "ehZga0PYdsxq",
        "outputId": "593cfd49-62b1-4cf6-c895-7e2440b3937c"
      },
      "execution_count": 25,
      "outputs": [
        {
          "output_type": "stream",
          "name": "stdout",
          "text": [
            "Lleva la ficha desde 1 hasta 2\n",
            "Lleva la ficha desde 1 hasta 3\n",
            "Lleva la ficha desde 2 hasta 3\n",
            "Lleva la ficha desde 1 hasta 2\n",
            "Lleva la ficha desde 3 hasta 1\n",
            "Lleva la ficha desde 3 hasta 2\n",
            "Lleva la ficha desde 1 hasta 2\n",
            "Lleva la ficha desde 1 hasta 3\n",
            "Lleva la ficha desde 2 hasta 3\n",
            "Lleva la ficha desde 2 hasta 1\n",
            "Lleva la ficha desde 3 hasta 1\n",
            "Lleva la ficha desde 2 hasta 3\n",
            "Lleva la ficha desde 1 hasta 2\n",
            "Lleva la ficha desde 1 hasta 3\n",
            "Lleva la ficha desde 2 hasta 3\n",
            "Lleva la ficha desde 1 hasta 2\n",
            "Lleva la ficha desde 3 hasta 1\n",
            "Lleva la ficha desde 3 hasta 2\n",
            "Lleva la ficha desde 1 hasta 2\n",
            "Lleva la ficha desde 3 hasta 1\n",
            "Lleva la ficha desde 2 hasta 3\n",
            "Lleva la ficha desde 2 hasta 1\n",
            "Lleva la ficha desde 3 hasta 1\n",
            "Lleva la ficha desde 3 hasta 2\n",
            "Lleva la ficha desde 1 hasta 2\n",
            "Lleva la ficha desde 1 hasta 3\n",
            "Lleva la ficha desde 2 hasta 3\n",
            "Lleva la ficha desde 1 hasta 2\n",
            "Lleva la ficha desde 3 hasta 1\n",
            "Lleva la ficha desde 3 hasta 2\n",
            "Lleva la ficha desde 1 hasta 2\n",
            "Lleva la ficha desde 1 hasta 3\n",
            "Lleva la ficha desde 2 hasta 3\n",
            "Lleva la ficha desde 2 hasta 1\n",
            "Lleva la ficha desde 3 hasta 1\n",
            "Lleva la ficha desde 2 hasta 3\n",
            "Lleva la ficha desde 1 hasta 2\n",
            "Lleva la ficha desde 1 hasta 3\n",
            "Lleva la ficha desde 2 hasta 3\n",
            "Lleva la ficha desde 2 hasta 1\n",
            "Lleva la ficha desde 3 hasta 1\n",
            "Lleva la ficha desde 3 hasta 2\n",
            "Lleva la ficha desde 1 hasta 2\n",
            "Lleva la ficha desde 3 hasta 1\n",
            "Lleva la ficha desde 2 hasta 3\n",
            "Lleva la ficha desde 2 hasta 1\n",
            "Lleva la ficha desde 3 hasta 1\n",
            "Lleva la ficha desde 2 hasta 3\n",
            "Lleva la ficha desde 1 hasta 2\n",
            "Lleva la ficha desde 1 hasta 3\n",
            "Lleva la ficha desde 2 hasta 3\n",
            "Lleva la ficha desde 1 hasta 2\n",
            "Lleva la ficha desde 3 hasta 1\n",
            "Lleva la ficha desde 3 hasta 2\n",
            "Lleva la ficha desde 1 hasta 2\n",
            "Lleva la ficha desde 1 hasta 3\n",
            "Lleva la ficha desde 2 hasta 3\n",
            "Lleva la ficha desde 2 hasta 1\n",
            "Lleva la ficha desde 3 hasta 1\n",
            "Lleva la ficha desde 2 hasta 3\n",
            "Lleva la ficha desde 1 hasta 2\n",
            "Lleva la ficha desde 1 hasta 3\n",
            "Lleva la ficha desde 2 hasta 3\n"
          ]
        }
      ]
    },
    {
      "cell_type": "code",
      "metadata": {
        "id": "YwBudj2hYoMR"
      },
      "source": [
        "#CAMBIO DE MONEDAS - TÉCNICA VORAZ\n",
        "################################################################################\n",
        "\n",
        "#Buscaremos la solución más ambiciosa posible sin considerar las consecuencias, hecho que puede trar errores en la solución.\n",
        "\n",
        "################################################################################\n",
        "def cambio_monedas(cantidad_a_devolver,sistema_monetario):\n",
        "#....\n",
        "  solucion = [0]*len(sistema_monetario)\n",
        "  valor_acumulado = 0\n",
        "\n",
        "  for i,valor in enumerate(sistema_monetario):\n",
        "    monedas = (cantidad_a_devolver-valor_acumulado)//valor\n",
        "    solucion[i] = monedas\n",
        "    valor_acumulado = valor_acumulado + monedas*valor\n",
        "\n",
        "    print(\"Se devolveran \"+ str(monedas) +\" moneda de valor \"+ str(valor))\n",
        "\n",
        "    if cantidad_a_devolver == valor_acumulado:\n",
        "      return solucion\n",
        "\n",
        "  print(\"No es posible encontrar solucion\") \n",
        "   \n",
        "################################################################################"
      ],
      "execution_count": 26,
      "outputs": []
    },
    {
      "cell_type": "code",
      "metadata": {
        "id": "9toJ4WjhQUNj",
        "colab": {
          "base_uri": "https://localhost:8080/"
        },
        "outputId": "b9affac2-5168-4b73-abab-a9ef3330c833"
      },
      "source": [
        "# Se deben devolver 15 $ con monedas de 12, 5, 2 y 1 $\n",
        "sistema = [12, 5 ,2, 1]\n",
        "cambio_monedas(15,sistema)"
      ],
      "execution_count": 27,
      "outputs": [
        {
          "output_type": "stream",
          "name": "stdout",
          "text": [
            "Se devolveran 1 moneda de valor 12\n",
            "Se devolveran 0 moneda de valor 5\n",
            "Se devolveran 1 moneda de valor 2\n",
            "Se devolveran 1 moneda de valor 1\n"
          ]
        },
        {
          "output_type": "execute_result",
          "data": {
            "text/plain": [
              "[1, 0, 1, 1]"
            ]
          },
          "metadata": {},
          "execution_count": 27
        }
      ]
    },
    {
      "cell_type": "code",
      "source": [
        "# Se deben devolver 33 $ con monedas de 38, 20, 3 y 1 $\n",
        "sistema = [38, 20, 3, 1]\n",
        "cambio_monedas(33,sistema)"
      ],
      "metadata": {
        "colab": {
          "base_uri": "https://localhost:8080/"
        },
        "id": "3XpjEr4rjIq9",
        "outputId": "23025f0f-4e17-462f-bc50-93c422d7e5ca"
      },
      "execution_count": 28,
      "outputs": [
        {
          "output_type": "stream",
          "name": "stdout",
          "text": [
            "Se devolveran 0 moneda de valor 38\n",
            "Se devolveran 1 moneda de valor 20\n",
            "Se devolveran 4 moneda de valor 3\n",
            "Se devolveran 1 moneda de valor 1\n"
          ]
        },
        {
          "output_type": "execute_result",
          "data": {
            "text/plain": [
              "[0, 1, 4, 1]"
            ]
          },
          "metadata": {},
          "execution_count": 28
        }
      ]
    },
    {
      "cell_type": "code",
      "metadata": {
        "id": "H4Iwt2XRZTFr"
      },
      "source": [
        "#N REINAS - VUELTA ATRÁS()\n",
        "################################################################################\n",
        "\n",
        "#A través de un árbol de expansión modelamos las soluciones\n",
        "#Verifica que en la solución parcial no hay amenzas entre reinas\n",
        "\n",
        "################################################################\n",
        "def es_prometedora(solucion,etapa):\n",
        "################################################################\n",
        "  #print(solucion)\n",
        "  #Si la solución tiene dos valores iguales no es valida => Dos reinas en la misma fila\n",
        "  for i in range(etapa+1):\n",
        "    #print(\"El valor \" + str(solucion[i]) + \" está \" +  str(solucion.count(solucion[i])) + \" veces\")\n",
        "    if solucion.count(solucion[i]) > 1:       \n",
        "      return False\n",
        "  \n",
        "    #Verifica las diagonales\n",
        "    for j in range(i+1, etapa +1 ):\n",
        "      #print(\"Comprobando diagonal de \" + str(i) + \" y \" + str(j))\n",
        "      if abs(i-j) == abs(solucion[i]-solucion[j]) : return False\n",
        "  return True\n",
        "\n",
        "#Traduce la solución al tablero\n",
        "################################################################\n",
        "def escribe_solucion(S):\n",
        "################################################################\n",
        "  n = len(S)\n",
        "  for x in range(n):\n",
        "    print(\"\")\n",
        "    for i in range(n):\n",
        "      if S[i] == x+1:\n",
        "        print(\" X \" , end=\"\")\n",
        "      else:\n",
        "        print(\" - \", end=\"\")\n",
        "\n",
        "#Proceso principal de N-Reinas\n",
        "################################################################\n",
        "def reinas(N, solucion=[],etapa=0): \n",
        "################################################################\n",
        "### ....\n",
        "  if len(solucion) == 0:         # [0,0,0...]\n",
        "    solucion = [0 for i in range(N) ]\n",
        "  \n",
        "  for i in range(1, N+1):\n",
        "    solucion[etapa] = i\n",
        "    if es_prometedora(solucion, etapa):\n",
        "      if etapa == N-1:\n",
        "        print(solucion)\n",
        "      else:  \n",
        "        reinas(N, solucion, etapa+1)\n",
        "    else:\n",
        "      None\n",
        "  \n",
        "  solucion[etapa] = 0\n"
      ],
      "execution_count": 31,
      "outputs": []
    },
    {
      "cell_type": "code",
      "source": [
        "#Soluciones de 4 reinas en un tablero 4x4\n",
        "reinas(4,solucion=[],etapa=0)"
      ],
      "metadata": {
        "colab": {
          "base_uri": "https://localhost:8080/"
        },
        "id": "iP2LUbrEjt-T",
        "outputId": "39146391-a227-4a7f-aa54-2ebbc02cfa97"
      },
      "execution_count": 34,
      "outputs": [
        {
          "output_type": "stream",
          "name": "stdout",
          "text": [
            "[2, 4, 1, 3]\n",
            "[3, 1, 4, 2]\n"
          ]
        }
      ]
    },
    {
      "cell_type": "code",
      "metadata": {
        "id": "eTZclKH9QV0R",
        "colab": {
          "base_uri": "https://localhost:8080/"
        },
        "outputId": "94ac1cad-a068-439e-cb34-c3edf3cd5b1c"
      },
      "source": [
        "#Posicionamiento de 4 reinas en un tablero 4x4\n",
        "print(\"Solución [2, 4, 1, 3]\")\n",
        "escribe_solucion([2, 4, 1, 3])\n",
        "\n",
        "print(\"\\n\")\n",
        "\n",
        "print(\"Solución [3, 1, 4, 2]\")\n",
        "escribe_solucion([3, 1, 4, 2])\n",
        "\n"
      ],
      "execution_count": 39,
      "outputs": [
        {
          "output_type": "stream",
          "name": "stdout",
          "text": [
            "Solución [2, 4, 1, 3]\n",
            "\n",
            " -  -  X  - \n",
            " X  -  -  - \n",
            " -  -  -  X \n",
            " -  X  -  - \n",
            "\n",
            "Solución [3, 1, 4, 2]\n",
            "\n",
            " -  X  -  - \n",
            " -  -  -  X \n",
            " X  -  -  - \n",
            " -  -  X  - "
          ]
        }
      ]
    },
    {
      "cell_type": "code",
      "metadata": {
        "id": "TocxR55dQWq5",
        "colab": {
          "base_uri": "https://localhost:8080/",
          "height": 135
        },
        "outputId": "59fa1447-83d1-4a06-ef16-8c634ebe2576"
      },
      "source": [
        "#VIAJE POR EL RIO - PROGRAMACIÓN DINÁMICA\n",
        "################################################################################\n",
        "\n",
        "TARIFAS = [\n",
        "[0,5,4,3,999,999,999],\n",
        "[999,0,999,2,3,999,11],\n",
        "[999,999, 0,1,999,4,10],\n",
        "[999,999,999, 0,5,6,9],\n",
        "[999,999, 999,999,0,999,4],\n",
        "[999,999, 999,999,999,0,3],\n",
        "[999,999,999,999,999,999,0]\n",
        "]\n",
        "\n",
        "#999 se puede sustituir por float(\"inf\")\n",
        "\n",
        "\n",
        "#Calculo de la matriz de PRECIOS y RUTAS\n",
        "################################################################################ \n",
        "def Precios(TARIFAS):\n",
        "################################################################################\n",
        "#....\n",
        "\n",
        "\n",
        "\n",
        "\n",
        "\n",
        "\n",
        "PRECIOS,RUTA = Precios(TARIFAS)  \n",
        "#print(PRECIOS[0][6])\n",
        "\n",
        "#Imprime la matriz de precios\n",
        "print(\"PRECIOS\")\n",
        "for i in range(len(TARIFAS)):\n",
        "  print(PRECIOS[i])\n",
        "\n",
        "#Imprime la matriz de RUTAS\n",
        "print(\"\\nRUTA\")  \n",
        "for i in range(len(TARIFAS)):\n",
        "  print(RUTA[i])  \n",
        "  \n",
        "#Determinar la ruta con Recursividad\n",
        "################################################################################\n",
        "def calcular_ruta(RUTA, desde, hasta):\n",
        "################################################################################\n",
        "  if desde == hasta:\n",
        "    #print(\"Ir a :\" + str(desde))\n",
        "    return \"\" \n",
        "  else:\n",
        "    return str(calcular_ruta( RUTA, desde, RUTA[desde][hasta])) +  \\\n",
        "                ',' + \\\n",
        "                str(RUTA[desde][hasta] \\\n",
        "              ) \n",
        "\n",
        "print(\"\\nLa ruta es:\")  \n",
        "calcular_ruta(RUTA, 0,6) "
      ],
      "execution_count": 40,
      "outputs": [
        {
          "output_type": "error",
          "ename": "IndentationError",
          "evalue": "ignored",
          "traceback": [
            "\u001b[0;36m  File \u001b[0;32m\"<ipython-input-40-66835e2ce6aa>\"\u001b[0;36m, line \u001b[0;32m28\u001b[0m\n\u001b[0;31m    PRECIOS,RUTA = Precios(TARIFAS)\u001b[0m\n\u001b[0m          ^\u001b[0m\n\u001b[0;31mIndentationError\u001b[0m\u001b[0;31m:\u001b[0m expected an indented block\n"
          ]
        }
      ]
    }
  ]
}