{
  "nbformat": 4,
  "nbformat_minor": 0,
  "metadata": {
    "colab": {
      "name": "Daniel_Bayerri_TrabajoPráctico.ipynb",
      "provenance": [],
      "collapsed_sections": [],
      "include_colab_link": true
    },
    "kernelspec": {
      "name": "python3",
      "display_name": "Python 3"
    }
  },
  "cells": [
    {
      "cell_type": "markdown",
      "metadata": {
        "id": "view-in-github",
        "colab_type": "text"
      },
      "source": [
        "<a href=\"https://colab.research.google.com/github/DanielBayerri/03MAIR--Algoritmos-de-Optimizacion---2021/blob/main/Daniel_Bayerri_TrabajoPr%C3%A1ctico.ipynb\" target=\"_parent\"><img src=\"https://colab.research.google.com/assets/colab-badge.svg\" alt=\"Open In Colab\"/></a>"
      ]
    },
    {
      "cell_type": "markdown",
      "metadata": {
        "id": "hVbXYX-RfPWh"
      },
      "source": [
        "# Algoritmos de optimización - Seminario<br>\n",
        "Nombre y Apellidos: Daniel Bayerri Ortega   <br>\n",
        "Url: https://github.com/DanielBayerri/03MAIR--Algoritmos-de-Optimizacion---2021master/SEMINARIO<br>\n",
        "Problema 3: Combinar cifras y operaciones\n",
        "\n",
        "Descripción del problema:\n",
        ">• Disponemos de las 9 cifras del 1 al 9 (excluimos el cero) y de los 4 signos básicos de las operaciones fundamentales: suma(+), resta(-), multiplicación(*) y división(/)<br>\n",
        ">• Debemos combinarlos alternativamente sin repetir ninguno de ellos para obtener una cantidad\n",
        "dada. Un ejemplo sería para obtener el 4:    4+2-6/3·1 = 4      "
      ]
    },
    {
      "cell_type": "markdown",
      "source": [
        "## Pregunta 1:<br>\n",
        "(*)¿Cuantas posibilidades hay sin tener en cuenta las restricciones?<br>"
      ],
      "metadata": {
        "id": "daeHpRWxU_mJ"
      }
    },
    {
      "cell_type": "markdown",
      "source": [
        "Esta pregunta ciertamente se puede enfocar de diversos puntos de vista. Teniendo en cuenta que el problema nos ristringe en cuanto número de cifras, operadores y el hecho desde mi punto de vista más relevante, la prohibición de repeticiones de los elementos anteriores. <br>\n",
        "\n",
        "Si obviamos esta última restricción, podriamos obtener cualquier valor Real existente. Esto se debe a que mediante el uso de técnicas boraces podriamos acercarnos al máximo al resultado buscado con repetidas multiplicaciones. Este paso juntamente a una posterior suma o resta conseguiriamos el valor buscado. "
      ],
      "metadata": {
        "id": "9XKeQN9Xx_-l"
      }
    },
    {
      "cell_type": "markdown",
      "metadata": {
        "id": "3_-exlrTgLd-"
      },
      "source": [
        "\n",
        "\n",
        "\n",
        "\n",
        "¿Cuantas posibilidades hay teniendo en cuenta todas las restricciones.\n",
        "\n",
        "\n"
      ]
    },
    {
      "cell_type": "markdown",
      "metadata": {
        "id": "WfCUqJyKhPcw"
      },
      "source": [
        "Respuesta"
      ]
    },
    {
      "cell_type": "code",
      "metadata": {
        "id": "iq6Fe32MgpDX"
      },
      "source": [
        "import math\n",
        "\n",
        "def solucion_voraz(cifras, solucion):\n",
        "  operacion = [0]*len(cifras)\n",
        "  valor_acumulado = 0\n",
        "  for i, valor in enumerate(cifras):\n",
        "    if(solucion > valor):\n",
        "      multiplicaciones = (solucion - valor_acumulado) // valor\n",
        "      operacion[i] = multiplicaciones\n",
        "      valor_acumulado = valor_acumulado + multiplicaciones * valor\n",
        "    \n",
        "    if solucion == valor_acumulado:\n",
        "      return(operacion)\n"
      ],
      "execution_count": 36,
      "outputs": []
    },
    {
      "cell_type": "code",
      "source": [
        "cifras = [9, 8, 7, 6, 5, 4, 3, 2, 1]\n",
        "print(solucion_voraz(cifras, 20))"
      ],
      "metadata": {
        "colab": {
          "base_uri": "https://localhost:8080/"
        },
        "id": "kY3Bw_ZRkOaw",
        "outputId": "4937326f-160b-41ce-99ea-c8b09f4ac0d2"
      },
      "execution_count": 37,
      "outputs": [
        {
          "output_type": "stream",
          "name": "stdout",
          "text": [
            "[2, 0, 0, 0, 0, 0, 0, 1, 0]\n"
          ]
        }
      ]
    },
    {
      "cell_type": "markdown",
      "metadata": {
        "id": "dzynfVJahHoY"
      },
      "source": [
        "Modelo para el espacio de soluciones<br>\n",
        "(*) ¿Cual es la estructura de datos que mejor se adapta al problema? Argumentalo.(Es posible que hayas elegido una al principio y veas la necesidad de cambiar, arguentalo)\n"
      ]
    },
    {
      "cell_type": "markdown",
      "metadata": {
        "id": "xFIJrOwKi2Ti"
      },
      "source": [
        "Respuesta"
      ]
    },
    {
      "cell_type": "code",
      "metadata": {
        "id": "38c-7-ejhJmA"
      },
      "source": [
        ""
      ],
      "execution_count": null,
      "outputs": []
    },
    {
      "cell_type": "markdown",
      "metadata": {
        "id": "7Z9U2W7bi-XS"
      },
      "source": [
        "Según el modelo para el espacio de soluciones<br>\n",
        "(*)¿Cual es la función objetivo?\n",
        "\n",
        "(*)¿Es un problema de maximización o minimización?"
      ]
    },
    {
      "cell_type": "markdown",
      "metadata": {
        "id": "hBalWLM7j1_d"
      },
      "source": [
        "Respuesta"
      ]
    },
    {
      "cell_type": "code",
      "metadata": {
        "id": "pDA-rg3Gj5Lz"
      },
      "source": [
        ""
      ],
      "execution_count": null,
      "outputs": []
    },
    {
      "cell_type": "markdown",
      "metadata": {
        "id": "rlnTYgY1j6I2"
      },
      "source": [
        "Diseña un algoritmo para resolver el problema por fuerza bruta"
      ]
    },
    {
      "cell_type": "markdown",
      "metadata": {
        "id": "70rDgxYXkC8r"
      },
      "source": [
        "Respuesta"
      ]
    },
    {
      "cell_type": "code",
      "metadata": {
        "id": "CJb5sQ0qkENy"
      },
      "source": [
        "import random\n",
        "\n",
        "def solucion(resultado):\n",
        "  X = random.randint(1,9)\n",
        "\n",
        "  Y = random.randint(1,9)\n",
        "\n",
        "  while Y == X:\n",
        "    Y = random.randint(1,9)\n",
        "\n",
        "  Z = random.randint(1,9)\n",
        "\n",
        "  while Z == X or Z == Y:\n",
        "    Z = random.randint(1,9)\n",
        "\n",
        "  W = random.randint(1,9)\n",
        "\n",
        "  while W == X or W == Y or W == Z:\n",
        "    W = random.randint(1,9)\n",
        "\n",
        "  V = random.randint(1,9)\n",
        "\n",
        "  while V == X or V == Y or V == Z or V == W:\n",
        "    V = random.randint(1,9)\n",
        "\n",
        "  # print(X)\n",
        "  # print(Y)\n",
        "  # print(W)\n",
        "  # print(Z)\n",
        "  # print(V)\n",
        "\n",
        "  operadores = [\"+\", \"-\", \"/\", \"*\"]\n",
        "  p_operador = random.choice(operadores)\n",
        "  s_operador = random.choice(operadores)\n",
        "\n",
        "  while(s_operador == p_operador):\n",
        "    s_operador = random.choice(operadores)\n",
        "\n",
        "  t_operador = random.choice(operadores)\n",
        "\n",
        "  while(t_operador == p_operador or t_operador == s_operador):\n",
        "    t_operador = random.choice(operadores)\n",
        "\n",
        "  c_operador = random.choice(operadores)\n",
        "\n",
        "  while(c_operador == p_operador or c_operador == s_operador or c_operador == t_operador):\n",
        "    c_operador = random.choice(operadores)\n",
        "\n",
        "  # print(p_operador)\n",
        "  # print(s_operador)\n",
        "  # print(t_operador)\n",
        "  # print(c_operador)\n",
        "  \n",
        "  expresion = str(X)+str(p_operador)+str(Y)+str(s_operador)+str(W)+str(t_operador)+str(Z)+str(c_operador)+str(V)\n",
        "  if resultado == eval(expresion):\n",
        "    return (print(expresion))\n",
        "  else:\n",
        "    solucion(resultado)"
      ],
      "execution_count": 27,
      "outputs": []
    },
    {
      "cell_type": "code",
      "source": [
        "solucion(25)"
      ],
      "metadata": {
        "colab": {
          "base_uri": "https://localhost:8080/"
        },
        "id": "--SfTi0swVGz",
        "outputId": "e2ae4a25-d228-4d77-b3fb-1a8b6c769aae"
      },
      "execution_count": 28,
      "outputs": [
        {
          "output_type": "stream",
          "name": "stdout",
          "text": [
            "3*7/1+6-2\n"
          ]
        }
      ]
    },
    {
      "cell_type": "markdown",
      "metadata": {
        "id": "tgrnsC2nkFa8"
      },
      "source": [
        "Calcula la complejidad del algoritmo por fuerza bruta"
      ]
    },
    {
      "cell_type": "markdown",
      "metadata": {
        "id": "9eUd3xwckP68"
      },
      "source": [
        "Respuesta"
      ]
    },
    {
      "cell_type": "code",
      "metadata": {
        "id": "rvZWwL-ckRST"
      },
      "source": [
        ""
      ],
      "execution_count": null,
      "outputs": []
    },
    {
      "cell_type": "markdown",
      "metadata": {
        "id": "txbrmLmskReM"
      },
      "source": [
        "(*)Diseña un algoritmo que mejore la complejidad del algortimo por fuerza bruta. Argumenta porque crees que mejora el algoritmo por fuerza bruta"
      ]
    },
    {
      "cell_type": "markdown",
      "metadata": {
        "id": "hLrVwt5QkZPD"
      },
      "source": [
        "Respuesta"
      ]
    },
    {
      "cell_type": "code",
      "metadata": {
        "id": "m1eyM21Vkabg"
      },
      "source": [
        ""
      ],
      "execution_count": null,
      "outputs": []
    },
    {
      "cell_type": "markdown",
      "metadata": {
        "id": "eGDB4K6uk1iN"
      },
      "source": [
        "(*)Calcula la complejidad del algoritmo "
      ]
    },
    {
      "cell_type": "markdown",
      "metadata": {
        "id": "NhpTh_BPk1ms"
      },
      "source": [
        "Respuesta"
      ]
    },
    {
      "cell_type": "code",
      "metadata": {
        "id": "nREzhkStlCq8"
      },
      "source": [
        ""
      ],
      "execution_count": null,
      "outputs": []
    },
    {
      "cell_type": "markdown",
      "metadata": {
        "id": "3M6QjTsSkmYe"
      },
      "source": [
        "Según el problema (y tenga sentido), diseña un juego de datos de entrada aleatorios"
      ]
    },
    {
      "cell_type": "markdown",
      "metadata": {
        "id": "Jc3_OlyNkvjZ"
      },
      "source": [
        "Respuesta"
      ]
    },
    {
      "cell_type": "code",
      "metadata": {
        "id": "sJ-N2etjkyWc"
      },
      "source": [
        ""
      ],
      "execution_count": null,
      "outputs": []
    },
    {
      "cell_type": "markdown",
      "metadata": {
        "id": "zy5ZROmjlGo1"
      },
      "source": [
        "Aplica el algoritmo al juego de datos generado"
      ]
    },
    {
      "cell_type": "markdown",
      "metadata": {
        "id": "_Cmj-PVylMsa"
      },
      "source": [
        "Respuesta"
      ]
    },
    {
      "cell_type": "code",
      "metadata": {
        "id": "Jkx8GeiYlUz1"
      },
      "source": [
        ""
      ],
      "execution_count": null,
      "outputs": []
    },
    {
      "cell_type": "markdown",
      "metadata": {
        "id": "eTFWUJQrtGcv"
      },
      "source": [
        "Enumera las referencias que has utilizado(si ha sido necesario) para llevar a cabo el trabajo"
      ]
    },
    {
      "cell_type": "markdown",
      "metadata": {
        "id": "YKQ_mRBttWsP"
      },
      "source": [
        "Respuesta"
      ]
    },
    {
      "cell_type": "markdown",
      "metadata": {
        "id": "kAkDPUyRtYyH"
      },
      "source": [
        "Describe brevemente las lineas de como crees que es posible avanzar en el estudio del problema. Ten en cuenta incluso posibles variaciones del problema y/o variaciones al alza del tamaño"
      ]
    },
    {
      "cell_type": "markdown",
      "metadata": {
        "id": "IE0uZmo-tZu-"
      },
      "source": [
        "Respuesta"
      ]
    }
  ]
}