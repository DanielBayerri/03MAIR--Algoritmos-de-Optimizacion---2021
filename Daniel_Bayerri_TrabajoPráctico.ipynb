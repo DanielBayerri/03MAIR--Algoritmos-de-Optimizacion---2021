{
  "nbformat": 4,
  "nbformat_minor": 0,
  "metadata": {
    "colab": {
      "name": "Daniel_Bayerri_TrabajoPráctico.ipynb",
      "provenance": [],
      "collapsed_sections": [],
      "include_colab_link": true
    },
    "kernelspec": {
      "name": "python3",
      "display_name": "Python 3"
    }
  },
  "cells": [
    {
      "cell_type": "markdown",
      "metadata": {
        "id": "view-in-github",
        "colab_type": "text"
      },
      "source": [
        "<a href=\"https://colab.research.google.com/github/DanielBayerri/03MAIR--Algoritmos-de-Optimizacion---2021/blob/main/Daniel_Bayerri_TrabajoPr%C3%A1ctico.ipynb\" target=\"_parent\"><img src=\"https://colab.research.google.com/assets/colab-badge.svg\" alt=\"Open In Colab\"/></a>"
      ]
    },
    {
      "cell_type": "markdown",
      "metadata": {
        "id": "hVbXYX-RfPWh"
      },
      "source": [
        "# Algoritmos de optimización - Seminario<br>\n",
        "Nombre y Apellidos: Daniel Bayerri Ortega   <br>\n",
        "Url: https://github.com/DanielBayerri/03MAIR--Algoritmos-de-Optimizacion---2021master/SEMINARIO<br>\n",
        "Problema 3: Combinar cifras y operaciones\n",
        "\n",
        "Descripción del problema:\n",
        ">• Disponemos de las 9 cifras del 1 al 9 (excluimos el cero) y de los 4 signos básicos de las operaciones fundamentales: suma(+), resta(-), multiplicación(*) y división(/)<br>\n",
        ">• Debemos combinarlos alternativamente sin repetir ninguno de ellos para obtener una cantidad\n",
        "dada. Un ejemplo sería para obtener el 4:    4+2-6/3·1 = 4      "
      ]
    },
    {
      "cell_type": "markdown",
      "source": [
        "## Pregunta 1:<br>\n",
        "(*)¿Cuantas posibilidades hay sin tener en cuenta las restricciones?<br>"
      ],
      "metadata": {
        "id": "daeHpRWxU_mJ"
      }
    },
    {
      "cell_type": "markdown",
      "source": [
        "Esta pregunta ciertamente se puede enfocar de diversos puntos de vista, ya que se pueden interpretar variedad de restricciones. Teniendo en cuenta que el problema nos ristringe en cuanto número de cifras, operadores y el uso de todos ellos en la solución, juntamente al hecho desde mi punto de vista más relevante, la prohibición de repeticiones de los elementos anteriores. Mi planteamiento será el siguiente:<br>\n",
        "\n",
        "Si obviamos esta última restricción, podriamos obtener cualquier valor Real existente. Esto se debe a que mediante el uso de técnicas boraces podriamos acercarnos al máximo al resultado buscado con repetidas multiplicaciones. Este paso juntamente a una posterior suma o resta conseguiriamos el valor buscado. "
      ],
      "metadata": {
        "id": "9XKeQN9Xx_-l"
      }
    },
    {
      "cell_type": "code",
      "metadata": {
        "id": "iq6Fe32MgpDX"
      },
      "source": [
        "import math\n",
        "\n",
        "def solucion_voraz(cifras, solucion):\n",
        "  valor_acumulado = 0\n",
        "  cond = 0 #condicional para diferenciar las multiplicaciones de las sumas\n",
        "  resultado = \"\" #salida de la funcion con las operaciones a realizar\n",
        "\n",
        "  for i, valor in enumerate(cifras): #recorremos nuestros valores del 9 al 1\n",
        "    if(solucion > valor and cond == 0): #si el valor de la lista es menor a la solución, obtenemos la cantidad de multiplicaciones que podemos realizar para acercarnos al resultado.\n",
        "      multiplicaciones = (solucion - valor_acumulado) // valor\n",
        "      while multiplicaciones > 9:\n",
        "        multiplicaciones = multiplicaciones - 9\n",
        "        valor_acumulado = valor_acumulado + 9 * valor\n",
        "        resultado = resultado +str(valor)+\"*9+\"\n",
        "\n",
        "      resultado = resultado+str(valor)+\"*\"+str(multiplicaciones)+\"+\"\n",
        "      valor_acumulado = valor_acumulado + multiplicaciones * valor\n",
        "      cond = 1\n",
        "\n",
        "    if(valor_acumulado + valor == solucion): #una vez que estamos cerca de la solución buscamos que valor debemos sumar para obtenerlo definitivamente.\n",
        "      resultado=resultado +str(valor)+\"=\"+str(solucion)\n",
        "      return(resultado)\n"
      ],
      "execution_count": null,
      "outputs": []
    },
    {
      "cell_type": "code",
      "source": [
        "cifras = [9, 8, 7, 6, 5, 4, 3, 2, 1]\n",
        "print(solucion_voraz(cifras, 100))\n",
        "print(solucion_voraz(cifras, 33))\n",
        "print(solucion_voraz(cifras, 8))\n",
        "print(solucion_voraz(cifras, 9))\n",
        "print(solucion_voraz(cifras, 345))\n"
      ],
      "metadata": {
        "colab": {
          "base_uri": "https://localhost:8080/"
        },
        "id": "kY3Bw_ZRkOaw",
        "outputId": "70aa7e56-9b1d-4407-947f-3eb568ffe643"
      },
      "execution_count": null,
      "outputs": [
        {
          "output_type": "stream",
          "name": "stdout",
          "text": [
            "9*9+9*2+1=100\n",
            "9*3+6=33\n",
            "8=8\n",
            "9=9\n",
            "9*9+9*9+9*9+9*9+9*2+3=345\n"
          ]
        }
      ]
    },
    {
      "cell_type": "markdown",
      "source": [
        "Si enfocamos la cuestion teniendo en cuenta que la estructura de la ecuación debe ser fija el resultado es muy distinto. En este caso suponiendo que la ecuación se basa en ***5*** números y ***4*** operadores, el número de posibilidades se basa en las variaciones que pueden llegar a tener cada uno de estos elementos. En el caso de los números, como tenemos ***9*** valores posibles en ***5*** posiciones, el conjunto tendrá ***59049 (9^5)*** posibilidades. Repitiendo el mismo razonamiento con los operadores, se obtendran ***256 (4^4)*** posiblidades. Si combinamos dichas posibilidades obtenemos un total de  ***15116544 (9^5 * 4^4)*** posibilidades de estrucuturar la ecuación."
      ],
      "metadata": {
        "id": "fMyNOdBUMFiH"
      }
    },
    {
      "cell_type": "markdown",
      "metadata": {
        "id": "3_-exlrTgLd-"
      },
      "source": [
        "## Pregunta 2:<br>\n",
        "¿Cuantas posibilidades hay teniendo en cuenta todas las restricciones?<br>\n",
        "\n",
        "\n"
      ]
    },
    {
      "cell_type": "markdown",
      "metadata": {
        "id": "dzynfVJahHoY"
      },
      "source": [
        "## Pregunta 3:<br>\n",
        "Modelo para el espacio de soluciones<br>\n",
        "(*) ¿Cual es la estructura de datos que mejor se adapta al problema? Argumentalo.(Es posible que hayas elegido una al principio y veas la necesidad de cambiar, arguentalo)\n"
      ]
    },
    {
      "cell_type": "markdown",
      "metadata": {
        "id": "xFIJrOwKi2Ti"
      },
      "source": [
        "Para este problema, la opción más adecuada será trabajar mediante dos listas. <br>\n",
        "La primera contendrá los posibles valores numéricos que contendrá la ecuación resultante: **[\"1\", \"2\", \"3\", \"4\", \"5\", \"6\", \"7\", \"8\", \"9\"]**<br>\n",
        "La segunda lista tendrá los posibles operadores: **[\"+\", \"-\", \"*\", \"/\"]**\n"
      ]
    },
    {
      "cell_type": "markdown",
      "metadata": {
        "id": "7Z9U2W7bi-XS"
      },
      "source": [
        "## Pregunta 4:<br>\n",
        "Según el modelo para el espacio de soluciones<br>\n",
        "(*)¿Cual es la función objetivo?\n"
      ]
    },
    {
      "cell_type": "markdown",
      "source": [
        "Como nos encontramos frente a un problema donde no se debe optimizar ningúna solución, podemos determinar que no disponemos de función objetivo. Para resolver dicho problema procederemos a buscar una combinación tanto de números como de operaciones para obtener un resultado determinado, por eso podemos decir que nuestro algoritmo será de búsqueda, no de optimización."
      ],
      "metadata": {
        "id": "VpGavc_uTLgq"
      }
    },
    {
      "cell_type": "markdown",
      "source": [
        "## Pregunta 5:<br>\n",
        "(*)¿Es un problema de maximización o minimización?<br>"
      ],
      "metadata": {
        "id": "yh2vtEC8Gmq9"
      }
    },
    {
      "cell_type": "markdown",
      "metadata": {
        "id": "hBalWLM7j1_d"
      },
      "source": [
        "Como se explicaba en la pregunta anterior, al no tener un problema de optimización, tampoco es de maximización o minimización. Como el objetivo es encontrar un resultado en concreto, este no se puede maximizar o minimizar, en todo caso se podría hacer un código más o menos óptimo."
      ]
    },
    {
      "cell_type": "markdown",
      "metadata": {
        "id": "rlnTYgY1j6I2"
      },
      "source": [
        "## Pregunta 6:<br>\n",
        "Diseña un algoritmo para resolver el problema por fuerza bruta <br>"
      ]
    },
    {
      "cell_type": "markdown",
      "metadata": {
        "id": "70rDgxYXkC8r"
      },
      "source": [
        "Con el algoritmo de fuerza bruta, el objetivo es analizar todas las posibles combinaciones tanto de número como de operadores hasta encontrar una que resuelva la ecuación con el valor deseado. Para ello usaré de la librería \"Intertools\", la funcionalidad \"Permutation\" que mediante las dos listas (números y operadores) extrae todas las posibles combinaciones que se pueden hacer con el contenido de ellas."
      ]
    },
    {
      "cell_type": "code",
      "metadata": {
        "id": "CJb5sQ0qkENy"
      },
      "source": [
        "from itertools import permutations\n",
        "\n",
        "def solucion_fuerza_bruta(lista_numeros, lista_operadores, objetivo):\n",
        "  \n",
        "  numeros = list(permutations(lista_numeros, 5))\n",
        "  operadores = list(permutations(lista_operadores))\n",
        "  # print(operadores)\n",
        "\n",
        "  for posibles_operadores in operadores:\n",
        "    for posibles_numeros in numeros:\n",
        "      \n",
        "      posible_solucion = posibles_numeros[0] + posibles_operadores[0] + posibles_numeros[1] + posibles_operadores[1] + posibles_numeros[2] + posibles_operadores[2] + posibles_numeros[3] + posibles_operadores[3] + posibles_numeros[4]\n",
        "      # print(posible_solucion)\n",
        "      if(objetivo == eval(posible_solucion)):\n",
        "        return (print(\"La combinación correcta es la siguiente: \"+posible_solucion+\" = \"+str(objetivo)))\n",
        "  \n",
        "  return(print(\"No se ha encontrado combinación posible para obtener el valor \"+ str(objetivo)))\n"
      ],
      "execution_count": 105,
      "outputs": []
    },
    {
      "cell_type": "code",
      "source": [
        "lista_numeros = [\"1\", \"2\", \"3\", \"4\", \"5\", \"6\", \"7\", \"8\", \"9\"]\n",
        "lista_operadores = ['+', '-', '*', '/']\n",
        "objetivo_1 = 46\n",
        "objetivo_2 = 78\n",
        "\n",
        "solucion_fuerza_bruta(lista_numeros, lista_operadores, objetivo_1)\n",
        "solucion_fuerza_bruta(lista_numeros, lista_operadores, objetivo_2)"
      ],
      "metadata": {
        "colab": {
          "base_uri": "https://localhost:8080/"
        },
        "id": "--SfTi0swVGz",
        "outputId": "020f9004-6b4b-48f6-afc9-0b37f601caf4"
      },
      "execution_count": 106,
      "outputs": [
        {
          "output_type": "stream",
          "name": "stdout",
          "text": [
            "La combinación correcta es la siguiente: 1+6*8-9/3 = 46\n",
            "No se ha encontrado combinación posible para obtener el valor 78\n"
          ]
        }
      ]
    },
    {
      "cell_type": "markdown",
      "metadata": {
        "id": "tgrnsC2nkFa8"
      },
      "source": [
        "## Pregunta 7:<br>\n",
        "Calcula la complejidad del algoritmo por fuerza bruta <br>"
      ]
    },
    {
      "cell_type": "markdown",
      "source": [
        "En el algoritmo anterior, como se ha comentado, se han usado mecanismos para ejecutar permutaciones en ambas lista, este hecho hace que la complejidad del algoritmo sea factorial, o dicho de otro modo: ***O = (n!)***. Por mucho que la primera opción que se contemple como solución sea cierta, el proceso de creación de todas las posibles soluciones ya se ha realizado, hecho que hace que la complejidad del algoritmo, de inicio ya sea muy elevada."
      ],
      "metadata": {
        "id": "8xIs48TYmPCA"
      }
    },
    {
      "cell_type": "markdown",
      "source": [
        "## Pregunta 8:<br>\n",
        "(*)Diseña un algoritmo que mejore la complejidad del algortimo por fuerza bruta. Argumenta porque crees que mejora el algoritmo por fuerza bruta <br>"
      ],
      "metadata": {
        "id": "2loIw8vsmKCC"
      }
    },
    {
      "cell_type": "markdown",
      "source": [
        "Para mejorar el algoritmo anterior realizado con fuerza bruta, analizando todas las posibles combinaciones de números y operadores, usaremos la búsqueda del resultado mediante la aleatoriedad. Este nuevo algoritmo tiene ventajas y desventajas, la principal ventaja será que se reduce en gran parte la complejidad de las permutaciones ya que no se usaran. Por otro lado al ser un algoritmo recursivo, que se va ejecutar repetidamente hasta encontrar el resultado correcto, puede que no se encuentre y de un error debido a que se superarán el máximo de ejecuciones. Este máximo se encuentra en 962, es por eso que será uno de los parámetros que se le van a pasar al algoritmo para determinar el límite. En los resultados se podrán observar las diferentes salidas, si el valor objetivo se encuentra o también en caso que se supere el límite de iteraciones, el algoritmo nos lo hará saber."
      ],
      "metadata": {
        "id": "_D4bbO6W-XFR"
      }
    },
    {
      "cell_type": "code",
      "metadata": {
        "id": "m1eyM21Vkabg"
      },
      "source": [
        "import random\n",
        "import numpy as np\n",
        "\n",
        "def selectRandom(lista, n_salidas ):\n",
        "  return np.random.choice(lista, n_salidas, False)\n",
        "\n",
        "def mejora_solucion(lista_numeros, lista_operadores, objetivo, limite_iteraciones):\n",
        "  # if (objetivo > )\n",
        "\n",
        "  posibles_numeros = selectRandom(lista_numeros, 5)\n",
        "  posibles_operadores = selectRandom(lista_operadores, 4)\n",
        "  # print(posibles_numeros)\n",
        "  # print(posibles_operadores)\n",
        "\n",
        "  posible_solucion = posibles_numeros[0] + posibles_operadores[0] + posibles_numeros[1] + posibles_operadores[1] + posibles_numeros[2] + posibles_operadores[2] + posibles_numeros[3] + posibles_operadores[3] + posibles_numeros[4]\n",
        "  # print(posible_solucion)    \n",
        "  if objetivo == eval(posible_solucion):\n",
        "    return (print(\"La solución obtenida es la siguiente: \"+posible_solucion+\" = \"+str(objetivo)))\n",
        "  else:\n",
        "    limite_iteraciones = limite_iteraciones - 1\n",
        "    # print(limite_iteraciones)\n",
        "    if(limite_iteraciones == 0):\n",
        "      return (print(\"Para obtener la solucion \"+ str(objetivo)+ \" se han superado el número máximo de iteraciones.\"))\n",
        "    mejora_solucion(lista_numeros, lista_operadores, objetivo, limite_iteraciones)\n",
        "    "
      ],
      "execution_count": 241,
      "outputs": []
    },
    {
      "cell_type": "code",
      "source": [
        "lista_numeros = [\"1\", \"2\", \"3\", \"4\", \"5\", \"6\", \"7\", \"8\", \"9\"]\n",
        "lista_operadores = ['+', '-', '*', '/']\n",
        "objetivo_1 = 0\n",
        "objetivo_2 = 46\n",
        "objetivo_3 = 77\n",
        "objetivo_4 = -35\n",
        "\n",
        "mejora_solucion(lista_numeros, lista_operadores, objetivo_1, 962)\n",
        "mejora_solucion(lista_numeros, lista_operadores, objetivo_2, 962)\n",
        "mejora_solucion(lista_numeros, lista_operadores, objetivo_3, 962)\n",
        "mejora_solucion(lista_numeros, lista_operadores, objetivo_4, 962)"
      ],
      "metadata": {
        "colab": {
          "base_uri": "https://localhost:8080/"
        },
        "id": "wKX2ZpNLVz_a",
        "outputId": "60637281-7662-46a9-d6a6-ae9a38a845a6"
      },
      "execution_count": 358,
      "outputs": [
        {
          "output_type": "stream",
          "name": "stdout",
          "text": [
            "La solución obtenida es la siguiente: 4+6/1-2*5 = 0\n",
            "La solución obtenida es la siguiente: 6/1*8+5-7 = 46\n",
            "Para obtener la solucion 77 se han superado el número máximo de iteraciones.\n",
            "La solución obtenida es la siguiente: 6/3-5*9+8 = -35\n"
          ]
        }
      ]
    },
    {
      "cell_type": "markdown",
      "metadata": {
        "id": "eGDB4K6uk1iN"
      },
      "source": [
        "## Pregunta 9:<br>\n",
        "(*)Calcula la complejidad del algoritmo <br>"
      ]
    },
    {
      "cell_type": "markdown",
      "metadata": {
        "id": "NhpTh_BPk1ms"
      },
      "source": [
        "Como en la nueva versión del algoritmo el número máximo de ejecuciones lo determinamos al ejecutarlo, este siempre tendrá una complejidad linial o también conocida como ***O(n)***. Vemos una gran mejora respecto al algoritmo original"
      ]
    },
    {
      "cell_type": "markdown",
      "metadata": {
        "id": "3M6QjTsSkmYe"
      },
      "source": [
        "## Pregunta 10:<br>\n",
        "Según el problema (y tenga sentido), diseña un juego de datos de entrada aleatorios <br>"
      ]
    },
    {
      "cell_type": "markdown",
      "metadata": {
        "id": "Jc3_OlyNkvjZ"
      },
      "source": [
        "Respuesta"
      ]
    },
    {
      "cell_type": "code",
      "metadata": {
        "id": "sJ-N2etjkyWc"
      },
      "source": [
        ""
      ],
      "execution_count": null,
      "outputs": []
    },
    {
      "cell_type": "markdown",
      "metadata": {
        "id": "zy5ZROmjlGo1"
      },
      "source": [
        "## Pregunta 11:<br>\n",
        "Aplica el algoritmo al juego de datos generado<br>"
      ]
    },
    {
      "cell_type": "markdown",
      "metadata": {
        "id": "_Cmj-PVylMsa"
      },
      "source": [
        "Respuesta"
      ]
    },
    {
      "cell_type": "code",
      "metadata": {
        "id": "Jkx8GeiYlUz1"
      },
      "source": [
        ""
      ],
      "execution_count": null,
      "outputs": []
    },
    {
      "cell_type": "markdown",
      "metadata": {
        "id": "eTFWUJQrtGcv"
      },
      "source": [
        "## Pregunta 12:<br>\n",
        "Enumera las referencias que has utilizado(si ha sido necesario) para llevar a cabo el trabajo<br>"
      ]
    },
    {
      "cell_type": "markdown",
      "metadata": {
        "id": "YKQ_mRBttWsP"
      },
      "source": [
        "Respuesta"
      ]
    },
    {
      "cell_type": "markdown",
      "metadata": {
        "id": "kAkDPUyRtYyH"
      },
      "source": [
        "## Pregunta 13:<br>\n",
        "Describe brevemente las lineas de como crees que es posible avanzar en el estudio del problema. Ten en cuenta incluso posibles variaciones del problema y/o variaciones al alza del tamaño <br>"
      ]
    },
    {
      "cell_type": "markdown",
      "metadata": {
        "id": "IE0uZmo-tZu-"
      },
      "source": [
        "Respuesta"
      ]
    }
  ]
}