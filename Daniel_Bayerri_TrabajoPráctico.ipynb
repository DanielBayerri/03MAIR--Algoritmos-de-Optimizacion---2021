{
  "nbformat": 4,
  "nbformat_minor": 0,
  "metadata": {
    "colab": {
      "name": "Daniel_Bayerri_TrabajoPráctico.ipynb",
      "provenance": [],
      "collapsed_sections": [],
      "include_colab_link": true
    },
    "kernelspec": {
      "name": "python3",
      "display_name": "Python 3"
    }
  },
  "cells": [
    {
      "cell_type": "markdown",
      "metadata": {
        "id": "view-in-github",
        "colab_type": "text"
      },
      "source": [
        "<a href=\"https://colab.research.google.com/github/DanielBayerri/03MAIR--Algoritmos-de-Optimizacion---2021/blob/main/Daniel_Bayerri_TrabajoPr%C3%A1ctico.ipynb\" target=\"_parent\"><img src=\"https://colab.research.google.com/assets/colab-badge.svg\" alt=\"Open In Colab\"/></a>"
      ]
    },
    {
      "cell_type": "markdown",
      "metadata": {
        "id": "hVbXYX-RfPWh"
      },
      "source": [
        "# Algoritmos de optimización - Seminario<br>\n",
        "Nombre y Apellidos: Daniel Bayerri Ortega   <br>\n",
        "Url: https://github.com/DanielBayerri/03MAIR--Algoritmos-de-Optimizacion---2021master/SEMINARIO<br>\n",
        "Problema 3: Combinar cifras y operaciones\n",
        "\n",
        "Descripción del problema:\n",
        ">• Disponemos de las 9 cifras del 1 al 9 (excluimos el cero) y de los 4 signos básicos de las operaciones fundamentales: suma(+), resta(-), multiplicación(*) y división(/)<br>\n",
        ">• Debemos combinarlos alternativamente sin repetir ninguno de ellos para obtener una cantidad\n",
        "dada. Un ejemplo sería para obtener el 4:    4+2-6/3·1 = 4      "
      ]
    },
    {
      "cell_type": "markdown",
      "source": [
        "## Pregunta 1:<br>\n",
        "(*)¿Cuantas posibilidades hay sin tener en cuenta las restricciones?<br>"
      ],
      "metadata": {
        "id": "daeHpRWxU_mJ"
      }
    },
    {
      "cell_type": "markdown",
      "source": [
        "Esta pregunta ciertamente se puede enfocar de diversos puntos de vista, ya que se pueden interpretar variedad de restricciones. Teniendo en cuenta que el problema nos restringe en cuanto número de cifras, operadores y el uso de todos ellos en la solución, juntamente al hecho desde mi punto de vista más relevante, la prohibición de repeticiones de los elementos anteriores. Mi planteamiento será el siguiente:<br>\n",
        "\n",
        "Si obviamos esta última restricción, podríamos obtener cualquier valor Real existente. Esto se debe a que mediante el uso de técnicas voraces podríamos acercarnos al máximo al resultado buscado con repetidas multiplicaciones. Este paso juntamente a una posterior suma o resta conseguiríamos el valor buscado. "
      ],
      "metadata": {
        "id": "9XKeQN9Xx_-l"
      }
    },
    {
      "cell_type": "code",
      "metadata": {
        "id": "iq6Fe32MgpDX"
      },
      "source": [
        "import math\n",
        "\n",
        "def solucion_voraz(cifras, solucion):\n",
        "  valor_acumulado = 0\n",
        "  cond = 0 #condicional para diferenciar las multiplicaciones de las sumas\n",
        "  resultado = \"\" #salida de la funcion con las operaciones a realizar\n",
        "\n",
        "  for i, valor in enumerate(cifras): #recorremos nuestros valores del 9 al 1\n",
        "    if(solucion > valor and cond == 0): #si el valor de la lista es menor a la solución, obtenemos la cantidad de multiplicaciones que podemos realizar para acercarnos al resultado.\n",
        "      multiplicaciones = (solucion - valor_acumulado) // valor\n",
        "      while multiplicaciones > 9:\n",
        "        multiplicaciones = multiplicaciones - 9\n",
        "        valor_acumulado = valor_acumulado + 9 * valor\n",
        "        resultado = resultado +str(valor)+\"*9+\"\n",
        "\n",
        "      resultado = resultado+str(valor)+\"*\"+str(multiplicaciones)+\"+\"\n",
        "      valor_acumulado = valor_acumulado + multiplicaciones * valor\n",
        "      cond = 1\n",
        "\n",
        "    if(valor_acumulado + valor == solucion): #una vez que estamos cerca de la solución buscamos que valor debemos sumar para obtenerlo definitivamente.\n",
        "      resultado=resultado +str(valor)+\"=\"+str(solucion)\n",
        "      return(resultado)\n"
      ],
      "execution_count": 25,
      "outputs": []
    },
    {
      "cell_type": "code",
      "source": [
        "cifras = [9, 8, 7, 6, 5, 4, 3, 2, 1]\n",
        "print(solucion_voraz(cifras, 100))\n",
        "print(solucion_voraz(cifras, 33))\n",
        "print(solucion_voraz(cifras, 8))\n",
        "print(solucion_voraz(cifras, 9))\n",
        "print(solucion_voraz(cifras, 345))\n"
      ],
      "metadata": {
        "colab": {
          "base_uri": "https://localhost:8080/"
        },
        "id": "kY3Bw_ZRkOaw",
        "outputId": "f7109b8a-5166-4ef3-fde7-3c922396d7fb"
      },
      "execution_count": 26,
      "outputs": [
        {
          "output_type": "stream",
          "name": "stdout",
          "text": [
            "9*9+9*2+1=100\n",
            "9*3+6=33\n",
            "8=8\n",
            "9=9\n",
            "9*9+9*9+9*9+9*9+9*2+3=345\n"
          ]
        }
      ]
    },
    {
      "cell_type": "markdown",
      "source": [
        "Si enfocamos la cuestión teniendo en cuenta que la estructura de la ecuación debe ser fija el resultado es muy distinto. En este caso suponiendo que la ecuación se basa en ***5*** números y ***4*** operadores, el número de posibilidades se basa en las variaciones que pueden llegar a tener cada uno de estos elementos. En el caso de los números, como tenemos ***9*** valores posibles en ***5*** posiciones, el conjunto tendrá ***59049 (9^5)*** posibilidades. Repitiendo el mismo razonamiento con los operadores, se obtendrán ***256 (4^4)*** posibilidades. Si combinamos dichas posibilidades obtenemos un total de  ***15116544 (9^5 * 4^4)*** posibilidades de estructurar la ecuación."
      ],
      "metadata": {
        "id": "fMyNOdBUMFiH"
      }
    },
    {
      "cell_type": "markdown",
      "metadata": {
        "id": "3_-exlrTgLd-"
      },
      "source": [
        "## Pregunta 2:<br>\n",
        "¿Cuantas posibilidades hay teniendo en cuenta todas las restricciones?<br>\n",
        "\n",
        "\n"
      ]
    },
    {
      "cell_type": "markdown",
      "source": [
        "A diferencia de la pregunta anterior, ahora las restricciones limitaran las posibilidades debido a que el problema pasa a ser un problema de variación sin repeticiones tanto de números como de operadores. En el caso de los números solo se utilizarán 5 de los 9 posibles, pero por otro lado los operacionales se utilizarán todos, aunque en distinto orden. <br>\n",
        "\n",
        "Recopilada esta información, se usan las fórmulas aprendidas en la asignatura de Matemáticas Para La Inteligencia Artificial, para tratar problemas de variación sin repetición: <br>\n",
        "\n",
        "***Posibilidades = (9! / (9-5)!) * 4! = 362880*** <br>\n",
        "\n",
        "Primero se realiza el cálculo para las posibilidades de los números para posteriormente multiplicar las posibilidades de los operacionales."
      ],
      "metadata": {
        "id": "kzmJ9qrUJVcD"
      }
    },
    {
      "cell_type": "markdown",
      "metadata": {
        "id": "dzynfVJahHoY"
      },
      "source": [
        "## Pregunta 3:<br>\n",
        "Modelo para el espacio de soluciones<br>\n",
        "(*) ¿Cual es la estructura de datos que mejor se adapta al problema? Argumentalo.(Es posible que hayas elegido una al principio y veas la necesidad de cambiar, arguentalo)\n"
      ]
    },
    {
      "cell_type": "markdown",
      "metadata": {
        "id": "xFIJrOwKi2Ti"
      },
      "source": [
        "Para este problema, la opción más adecuada será trabajar mediante dos listas. <br>\n",
        "La primera contendrá los posibles valores numéricos que contendrá la ecuación resultante: **[\"1\", \"2\", \"3\", \"4\", \"5\", \"6\", \"7\", \"8\", \"9\"]**<br>\n",
        "La segunda lista tendrá los posibles operadores: **[\"+\", \"-\", \"*\", \"/\"]**\n"
      ]
    },
    {
      "cell_type": "markdown",
      "metadata": {
        "id": "7Z9U2W7bi-XS"
      },
      "source": [
        "## Pregunta 4:<br>\n",
        "Según el modelo para el espacio de soluciones<br>\n",
        "(*)¿Cual es la función objetivo?\n"
      ]
    },
    {
      "cell_type": "markdown",
      "source": [
        "Como nos encontramos frente a un problema donde no se debe optimizar ninguna solución, podemos determinar que no disponemos de función objetivo. Para resolver dicho problema procederemos a buscar una combinación tanto de números como de operaciones para obtener un resultado determinado, por eso podemos decir que nuestro algoritmo será de búsqueda, no de optimización."
      ],
      "metadata": {
        "id": "VpGavc_uTLgq"
      }
    },
    {
      "cell_type": "markdown",
      "source": [
        "## Pregunta 5:<br>\n",
        "(*)¿Es un problema de maximización o minimización?<br>"
      ],
      "metadata": {
        "id": "yh2vtEC8Gmq9"
      }
    },
    {
      "cell_type": "markdown",
      "metadata": {
        "id": "hBalWLM7j1_d"
      },
      "source": [
        "Como se explicaba en la pregunta anterior, al no tener un problema de optimización, tampoco es de maximización o minimización. Como el objetivo es encontrar un resultado en concreto, este no se puede maximizar o minimizar, en todo caso se podría hacer un código más o óptimo."
      ]
    },
    {
      "cell_type": "markdown",
      "metadata": {
        "id": "rlnTYgY1j6I2"
      },
      "source": [
        "## Pregunta 6:<br>\n",
        "Diseña un algoritmo para resolver el problema por fuerza bruta <br>"
      ]
    },
    {
      "cell_type": "markdown",
      "metadata": {
        "id": "70rDgxYXkC8r"
      },
      "source": [
        "Con el algoritmo de fuerza bruta, el objetivo es analizar todas las posibles combinaciones tanto de número como de operadores hasta encontrar una que resuelva la ecuación con el valor deseado. Para ello usaré de la librería \"Intertools\", la funcionalidad \"Permutation\" que mediante las dos listas (números y operadores) extrae todas las posibles combinaciones que se pueden hacer con el contenido de ellas."
      ]
    },
    {
      "cell_type": "code",
      "metadata": {
        "id": "CJb5sQ0qkENy"
      },
      "source": [
        "from itertools import permutations\n",
        "\n",
        "def solucion_fuerza_bruta(lista_numeros, lista_operadores, objetivo):\n",
        "  \n",
        "  numeros = list(permutations(lista_numeros, 5))\n",
        "  operadores = list(permutations(lista_operadores))\n",
        "  # print(operadores)\n",
        "\n",
        "  for posibles_operadores in operadores:\n",
        "    for posibles_numeros in numeros:\n",
        "      \n",
        "      posible_solucion = posibles_numeros[0] + posibles_operadores[0] + posibles_numeros[1] + posibles_operadores[1] + posibles_numeros[2] + posibles_operadores[2] + posibles_numeros[3] + posibles_operadores[3] + posibles_numeros[4]\n",
        "      # print(posible_solucion)\n",
        "      if(objetivo == eval(posible_solucion)):\n",
        "        return (print(\"La combinación correcta es la siguiente: \"+posible_solucion+\" = \"+str(objetivo)))\n",
        "  \n",
        "  return(print(\"No se ha encontrado combinación posible para obtener el valor \"+ str(objetivo)))\n"
      ],
      "execution_count": 27,
      "outputs": []
    },
    {
      "cell_type": "code",
      "source": [
        "lista_numeros = [\"1\", \"2\", \"3\", \"4\", \"5\", \"6\", \"7\", \"8\", \"9\"]\n",
        "lista_operadores = ['+', '-', '*', '/']\n",
        "objetivo_1 = 46\n",
        "objetivo_2 = 78\n",
        "\n",
        "solucion_fuerza_bruta(lista_numeros, lista_operadores, objetivo_1)\n",
        "solucion_fuerza_bruta(lista_numeros, lista_operadores, objetivo_2)"
      ],
      "metadata": {
        "colab": {
          "base_uri": "https://localhost:8080/"
        },
        "id": "--SfTi0swVGz",
        "outputId": "76fa47e0-f8c9-4a41-be13-3d8b23249c68"
      },
      "execution_count": 28,
      "outputs": [
        {
          "output_type": "stream",
          "name": "stdout",
          "text": [
            "La combinación correcta es la siguiente: 1+6*8-9/3 = 46\n",
            "No se ha encontrado combinación posible para obtener el valor 78\n"
          ]
        }
      ]
    },
    {
      "cell_type": "markdown",
      "metadata": {
        "id": "tgrnsC2nkFa8"
      },
      "source": [
        "## Pregunta 7:<br>\n",
        "Calcula la complejidad del algoritmo por fuerza bruta <br>"
      ]
    },
    {
      "cell_type": "markdown",
      "source": [
        "En el algoritmo anterior, como se ha comentado, se han usado mecanismos para ejecutar permutaciones en ambas lista, este hecho hace que la complejidad del algoritmo sea factorial, o dicho de otro modo: ***O = (n!)***. Por mucho que la primera opción que se contemple como solución sea cierta, el proceso de creación de todas las posibles soluciones ya se ha realizado, hecho que hace que la complejidad del algoritmo, de inicio ya sea muy elevada."
      ],
      "metadata": {
        "id": "8xIs48TYmPCA"
      }
    },
    {
      "cell_type": "markdown",
      "source": [
        "## Pregunta 8:<br>\n",
        "(*)Diseña un algoritmo que mejore la complejidad del algortimo por fuerza bruta. Argumenta porque crees que mejora el algoritmo por fuerza bruta <br>"
      ],
      "metadata": {
        "id": "2loIw8vsmKCC"
      }
    },
    {
      "cell_type": "markdown",
      "source": [
        "Para mejorar el algoritmo anterior realizado con fuerza bruta, analizando todas las posibles combinaciones de números y operadores, usaremos la búsqueda del resultado mediante la aleatoriedad. Este nuevo algoritmo tiene ventajas y desventajas, la principal ventaja será que se reduce en gran parte la complejidad de las permutaciones ya que no se usaran. Por otro lado, al ser un algoritmo recursivo, que se va a ejecutar repetidamente hasta encontrar el resultado correcto, puede que no se encuentre y de un error debido a que se superarán el máximo de ejecuciones. Este máximo se encuentra en 962, es por eso por lo que será uno de los parámetros que se le van a pasar al algoritmo para determinar el límite. En los resultados se podrán observar las diferentes salidas, si el valor objetivo se encuentra o también en caso de que se supere el límite de iteraciones, el algoritmo nos lo hará saber."
      ],
      "metadata": {
        "id": "_D4bbO6W-XFR"
      }
    },
    {
      "cell_type": "code",
      "metadata": {
        "id": "m1eyM21Vkabg"
      },
      "source": [
        "import random\n",
        "import numpy as np\n",
        "\n",
        "def selectRandom(lista, n_salidas ):\n",
        "  return np.random.choice(lista, n_salidas, False)\n",
        "\n",
        "def mejora_solucion(lista_numeros, lista_operadores, objetivo, limite_iteraciones):\n",
        "\n",
        "  posibles_numeros = selectRandom(lista_numeros, 5)\n",
        "  posibles_operadores = selectRandom(lista_operadores, 4)\n",
        "  # print(posibles_numeros)\n",
        "  # print(posibles_operadores)\n",
        "\n",
        "  posible_solucion = posibles_numeros[0] + posibles_operadores[0] + posibles_numeros[1] + posibles_operadores[1] + posibles_numeros[2] + posibles_operadores[2] + posibles_numeros[3] + posibles_operadores[3] + posibles_numeros[4]\n",
        "  # print(posible_solucion)    \n",
        "  if objetivo == eval(posible_solucion):\n",
        "    print(\"La solución obtenida es la siguiente: \"+posible_solucion+\" = \"+str(objetivo))\n",
        "    return(True)\n",
        "  else:\n",
        "    limite_iteraciones = limite_iteraciones - 1\n",
        "    # print(limite_iteraciones)\n",
        "    if(limite_iteraciones == 0):\n",
        "      print(\"Para obtener la solucion \"+ str(objetivo)+ \" se han superado el número máximo de iteraciones.\")\n",
        "      return(False)\n",
        "    mejora_solucion(lista_numeros, lista_operadores, objetivo, limite_iteraciones)\n",
        "    "
      ],
      "execution_count": 56,
      "outputs": []
    },
    {
      "cell_type": "code",
      "source": [
        "lista_numeros = [\"1\", \"2\", \"3\", \"4\", \"5\", \"6\", \"7\", \"8\", \"9\"]\n",
        "lista_operadores = ['+', '-', '*', '/']\n",
        "objetivo_1 = 0\n",
        "objetivo_2 = 46\n",
        "objetivo_3 = 77\n",
        "objetivo_4 = -35\n",
        "\n",
        "mejora_solucion(lista_numeros, lista_operadores, objetivo_1, 962)\n",
        "mejora_solucion(lista_numeros, lista_operadores, objetivo_2, 962)\n",
        "mejora_solucion(lista_numeros, lista_operadores, objetivo_3, 962)\n",
        "mejora_solucion(lista_numeros, lista_operadores, objetivo_4, 962)"
      ],
      "metadata": {
        "colab": {
          "base_uri": "https://localhost:8080/"
        },
        "id": "wKX2ZpNLVz_a",
        "outputId": "091e9024-a8fb-4d2f-830e-077c278a6110"
      },
      "execution_count": 57,
      "outputs": [
        {
          "output_type": "stream",
          "name": "stdout",
          "text": [
            "La solución obtenida es la siguiente: 6/2-1*8+5 = 0\n",
            "La solución obtenida es la siguiente: 8-7+5/1*9 = 46\n",
            "Para obtener la solucion 77 se han superado el número máximo de iteraciones.\n",
            "La solución obtenida es la siguiente: 2+9/3-5*8 = -35\n"
          ]
        }
      ]
    },
    {
      "cell_type": "markdown",
      "metadata": {
        "id": "eGDB4K6uk1iN"
      },
      "source": [
        "## Pregunta 9:<br>\n",
        "(*)Calcula la complejidad del algoritmo <br>"
      ]
    },
    {
      "cell_type": "markdown",
      "metadata": {
        "id": "NhpTh_BPk1ms"
      },
      "source": [
        "Como en la nueva versión del algoritmo el número máximo de ejecuciones lo determinamos al ejecutarlo, este siempre tendrá una complejidad lineal o también conocida como ***O(n)***. Vemos una gran mejora respecto al algoritmo original."
      ]
    },
    {
      "cell_type": "markdown",
      "metadata": {
        "id": "3M6QjTsSkmYe"
      },
      "source": [
        "## Pregunta 10:<br>\n",
        "Según el problema (y tenga sentido), diseña un juego de datos de entrada aleatorios <br>"
      ]
    },
    {
      "cell_type": "markdown",
      "metadata": {
        "id": "Jc3_OlyNkvjZ"
      },
      "source": [
        "Para poder realizar un juego de pruebas adecuado, primero se deberá obtener el rango de valores que podrá obtener el algoritmo. Para ello, se utilizará el algoritmo de fuerza bruta creado anteriormente con ciertas modificaciones y se extraerán el valor mínimo y máximo que se puede obtener. Posteriormente se crearán todas las posibilidades a analizar con el juego de pruebas."
      ]
    },
    {
      "cell_type": "code",
      "metadata": {
        "id": "sJ-N2etjkyWc"
      },
      "source": [
        "from itertools import permutations\n",
        "\n",
        "def solucion_fuerza_bruta_modificada(lista_numeros, lista_operadores):\n",
        "  minimo = 0\n",
        "  maximo = 0\n",
        "\n",
        "  numeros = list(permutations(lista_numeros, 5))\n",
        "  operadores = list(permutations(lista_operadores))\n",
        "\n",
        "  for posibles_operadores in operadores:\n",
        "    for posibles_numeros in numeros:\n",
        "      \n",
        "      posible_solucion = posibles_numeros[0] + posibles_operadores[0] + posibles_numeros[1] + posibles_operadores[1] + posibles_numeros[2] + posibles_operadores[2] + posibles_numeros[3] + posibles_operadores[3] + posibles_numeros[4]\n",
        "      resultado = eval(posible_solucion)\n",
        "      if resultado > maximo:\n",
        "        maximo = int(resultado)\n",
        "      if resultado < minimo:\n",
        "        minimo = int(resultado)\n",
        "  \n",
        "  print(\"El máximo obtenido es \"+str(maximo)+ \" y el mínimo es \"+str(minimo))\n",
        "  return (maximo, minimo)"
      ],
      "execution_count": 87,
      "outputs": []
    },
    {
      "cell_type": "code",
      "source": [
        "lista_numeros = [\"1\", \"2\", \"3\", \"4\", \"5\", \"6\", \"7\", \"8\", \"9\"]\n",
        "lista_operadores = ['+', '-', '*', '/']\n",
        "\n",
        "valor_maximo, valor_minimo = solucion_fuerza_bruta_modificada(lista_numeros, lista_operadores)"
      ],
      "metadata": {
        "id": "zA0JHX1lODAT",
        "outputId": "590df24a-efd8-43d5-a23f-ba6bf1972973",
        "colab": {
          "base_uri": "https://localhost:8080/"
        }
      },
      "execution_count": 91,
      "outputs": [
        {
          "output_type": "stream",
          "name": "stdout",
          "text": [
            "El máximo obtenido es 78 y el mínimo es -70\n"
          ]
        }
      ]
    },
    {
      "cell_type": "code",
      "source": [
        "def juego_de_pruebas(maximo, minimo, lista_numeros, lista_operadores):\n",
        "  pruebas = list(range(minimo, maximo))\n",
        "  # print(pruebas)\n",
        "\n",
        "  valores_pruebas = selectRandom(pruebas,10)\n",
        "  for i, valor in enumerate(pruebas):\n",
        "    mejora_solucion(lista_numeros, lista_operadores, valor, 961)\n",
        "  return\n",
        "\n",
        "def juego_de_pruebas_fuerza_bruta(maximo, minimo, lista_numeros, lista_operadores):\n",
        "  pruebas = list(range(minimo, maximo))\n",
        "  # print(pruebas)\n",
        "  valores_pruebas = selectRandom(pruebas,10)\n",
        "  for i, valor in enumerate(pruebas):\n",
        "    solucion_fuerza_bruta(lista_numeros, lista_operadores, valor)\n",
        "  return\n"
      ],
      "metadata": {
        "id": "fbqsOiE_ZKRQ"
      },
      "execution_count": 123,
      "outputs": []
    },
    {
      "cell_type": "markdown",
      "metadata": {
        "id": "zy5ZROmjlGo1"
      },
      "source": [
        "## Pregunta 11:<br>\n",
        "Aplica el algoritmo al juego de datos generado<br>"
      ]
    },
    {
      "cell_type": "markdown",
      "metadata": {
        "id": "_Cmj-PVylMsa"
      },
      "source": [
        "Aplicando el juego de pruebas, se puede apreciar que el algoritmo trabaja correctamente pero aun así el número de iteraciones limita en gran medida encontrar todos los valores. Para verificar una de las preguntas del problema, aplicaré el algoritmo de fuerza bruta para encontrar todos los posibles resultados."
      ]
    },
    {
      "cell_type": "code",
      "source": [
        "juego_de_pruebas(valor_maximo, valor_minimo, lista_numeros, lista_operadores)"
      ],
      "metadata": {
        "id": "L5JqSPwfWS81",
        "outputId": "043ac38f-48cd-429e-d1f0-d909ef54b53e",
        "colab": {
          "base_uri": "https://localhost:8080/"
        }
      },
      "execution_count": 118,
      "outputs": [
        {
          "output_type": "stream",
          "name": "stdout",
          "text": [
            "Para obtener la solucion -70 se han superado el número máximo de iteraciones.\n",
            "Para obtener la solucion -69 se han superado el número máximo de iteraciones.\n",
            "Para obtener la solucion -68 se han superado el número máximo de iteraciones.\n",
            "Para obtener la solucion -67 se han superado el número máximo de iteraciones.\n",
            "Para obtener la solucion -66 se han superado el número máximo de iteraciones.\n",
            "Para obtener la solucion -65 se han superado el número máximo de iteraciones.\n",
            "Para obtener la solucion -64 se han superado el número máximo de iteraciones.\n",
            "La solución obtenida es la siguiente: 7-8*9+6/3 = -63\n",
            "Para obtener la solucion -62 se han superado el número máximo de iteraciones.\n",
            "Para obtener la solucion -61 se han superado el número máximo de iteraciones.\n",
            "Para obtener la solucion -60 se han superado el número máximo de iteraciones.\n",
            "Para obtener la solucion -59 se han superado el número máximo de iteraciones.\n",
            "Para obtener la solucion -58 se han superado el número máximo de iteraciones.\n",
            "Para obtener la solucion -57 se han superado el número máximo de iteraciones.\n",
            "Para obtener la solucion -56 se han superado el número máximo de iteraciones.\n",
            "Para obtener la solucion -55 se han superado el número máximo de iteraciones.\n",
            "Para obtener la solucion -54 se han superado el número máximo de iteraciones.\n",
            "La solución obtenida es la siguiente: 6/1+4-9*7 = -53\n",
            "Para obtener la solucion -52 se han superado el número máximo de iteraciones.\n",
            "La solución obtenida es la siguiente: 9/3+2-8*7 = -51\n",
            "Para obtener la solucion -50 se han superado el número máximo de iteraciones.\n",
            "Para obtener la solucion -49 se han superado el número máximo de iteraciones.\n",
            "Para obtener la solucion -48 se han superado el número máximo de iteraciones.\n",
            "La solución obtenida es la siguiente: 3-7*8+6/1 = -47\n",
            "La solución obtenida es la siguiente: 3-6*9+5/1 = -46\n",
            "Para obtener la solucion -45 se han superado el número máximo de iteraciones.\n",
            "Para obtener la solucion -44 se han superado el número máximo de iteraciones.\n",
            "La solución obtenida es la siguiente: 7-6*9+8/2 = -43\n",
            "La solución obtenida es la siguiente: 4+8/1-9*6 = -42\n",
            "Para obtener la solucion -41 se han superado el número máximo de iteraciones.\n",
            "Para obtener la solucion -40 se han superado el número máximo de iteraciones.\n",
            "La solución obtenida es la siguiente: 4-5*9+2/1 = -39\n",
            "La solución obtenida es la siguiente: 3-5*9/1+4 = -38\n",
            "Para obtener la solucion -37 se han superado el número máximo de iteraciones.\n",
            "Para obtener la solucion -36 se han superado el número máximo de iteraciones.\n",
            "La solución obtenida es la siguiente: 4-6*7+9/3 = -35\n",
            "Para obtener la solucion -34 se han superado el número máximo de iteraciones.\n",
            "La solución obtenida es la siguiente: 8/1+4-9*5 = -33\n",
            "Para obtener la solucion -32 se han superado el número máximo de iteraciones.\n",
            "Para obtener la solucion -31 se han superado el número máximo de iteraciones.\n",
            "La solución obtenida es la siguiente: 3+9-6*7/1 = -30\n",
            "Para obtener la solucion -29 se han superado el número máximo de iteraciones.\n",
            "La solución obtenida es la siguiente: 4+3/1-7*5 = -28\n",
            "Para obtener la solucion -27 se han superado el número máximo de iteraciones.\n",
            "La solución obtenida es la siguiente: 3+6-5/1*7 = -26\n",
            "La solución obtenida es la siguiente: 2-5/1*7+8 = -25\n",
            "La solución obtenida es la siguiente: 5+9/3-8*4 = -24\n",
            "La solución obtenida es la siguiente: 2/1+3-4*7 = -23\n",
            "Para obtener la solucion -22 se han superado el número máximo de iteraciones.\n",
            "La solución obtenida es la siguiente: 6-4*8/1+5 = -21\n",
            "La solución obtenida es la siguiente: 3-5/1*6+7 = -20\n",
            "La solución obtenida es la siguiente: 7-6*9/2+1 = -19\n",
            "La solución obtenida es la siguiente: 8+4-5*6/1 = -18\n",
            "La solución obtenida es la siguiente: 2-3*9/1+8 = -17\n",
            "Para obtener la solucion -16 se han superado el número máximo de iteraciones.\n",
            "Para obtener la solucion -15 se han superado el número máximo de iteraciones.\n",
            "La solución obtenida es la siguiente: 9-7/1*4+5 = -14\n",
            "La solución obtenida es la siguiente: 6/1+8-3*9 = -13\n",
            "La solución obtenida es la siguiente: 1-9*7/3+8 = -12\n",
            "La solución obtenida es la siguiente: 6/3+7-5*4 = -11\n",
            "La solución obtenida es la siguiente: 4-8/3*6+2 = -10\n",
            "Para obtener la solucion -9 se han superado el número máximo de iteraciones.\n",
            "La solución obtenida es la siguiente: 4-7*6/3+2 = -8\n",
            "Para obtener la solucion -7 se han superado el número máximo de iteraciones.\n",
            "La solución obtenida es la siguiente: 5+1-9/3*4 = -6\n",
            "La solución obtenida es la siguiente: 5+2-6/4*8 = -5\n",
            "La solución obtenida es la siguiente: 5-3/1*6+9 = -4\n",
            "La solución obtenida es la siguiente: 4/1-2*5+3 = -3\n",
            "La solución obtenida es la siguiente: 3-8*6/4+7 = -2\n",
            "La solución obtenida es la siguiente: 4/8*2-3+1 = -1\n",
            "La solución obtenida es la siguiente: 5+8/2*1-9 = 0\n",
            "La solución obtenida es la siguiente: 1+4/6*3-2 = 1\n",
            "La solución obtenida es la siguiente: 7+9/3-1*8 = 2\n",
            "La solución obtenida es la siguiente: 6/2*3-7+1 = 3\n",
            "La solución obtenida es la siguiente: 6/3-2+4*1 = 4\n",
            "La solución obtenida es la siguiente: 8-9+3/1*2 = 5\n",
            "La solución obtenida es la siguiente: 7+8/4-3*1 = 6\n",
            "La solución obtenida es la siguiente: 4/2*7-8+1 = 7\n",
            "La solución obtenida es la siguiente: 2-4+5*6/3 = 8\n",
            "La solución obtenida es la siguiente: 5/2*6-9+3 = 9\n",
            "La solución obtenida es la siguiente: 8/1+2*4-6 = 10\n",
            "La solución obtenida es la siguiente: 7-2+9*4/6 = 11\n",
            "La solución obtenida es la siguiente: 9/3+2*8-7 = 12\n",
            "La solución obtenida es la siguiente: 5-6+7*4/2 = 13\n",
            "La solución obtenida es la siguiente: 7-5+4*9/3 = 14\n",
            "La solución obtenida es la siguiente: 8/1-5+3*4 = 15\n",
            "La solución obtenida es la siguiente: 9/1+2*5-3 = 16\n",
            "La solución obtenida es la siguiente: 6*2-3+8/1 = 17\n",
            "La solución obtenida es la siguiente: 2/1+6*4-8 = 18\n",
            "La solución obtenida es la siguiente: 2+6/3*9-1 = 19\n",
            "La solución obtenida es la siguiente: 9+6/1*3-7 = 20\n",
            "La solución obtenida es la siguiente: 8/2*6+1-4 = 21\n",
            "La solución obtenida es la siguiente: 5*3/1+9-2 = 22\n",
            "La solución obtenida es la siguiente: 8/2+5*4-1 = 23\n",
            "La solución obtenida es la siguiente: 7+4*5/1-3 = 24\n",
            "La solución obtenida es la siguiente: 8/1*3+6-5 = 25\n",
            "La solución obtenida es la siguiente: 9*3+6/1-7 = 26\n",
            "Para obtener la solucion 27 se han superado el número máximo de iteraciones.\n",
            "La solución obtenida es la siguiente: 7*5-9+6/3 = 28\n",
            "La solución obtenida es la siguiente: 8/1-3+6*4 = 29\n",
            "La solución obtenida es la siguiente: 4*8-7/1+5 = 30\n",
            "La solución obtenida es la siguiente: 9*4+6/2-8 = 31\n",
            "La solución obtenida es la siguiente: 9+7*4/1-5 = 32\n",
            "Para obtener la solucion 33 se han superado el número máximo de iteraciones.\n",
            "La solución obtenida es la siguiente: 3+8*5-9/1 = 34\n",
            "Para obtener la solucion 35 se han superado el número máximo de iteraciones.\n",
            "La solución obtenida es la siguiente: 4*8-3/1+7 = 36\n",
            "La solución obtenida es la siguiente: 9/2*8-3+4 = 37\n",
            "La solución obtenida es la siguiente: 7/1+4*9-5 = 38\n",
            "La solución obtenida es la siguiente: 4*9/1+5-2 = 39\n",
            "Para obtener la solucion 40 se han superado el número máximo de iteraciones.\n",
            "La solución obtenida es la siguiente: 5*9+4/2-6 = 41\n",
            "Para obtener la solucion 42 se han superado el número máximo de iteraciones.\n",
            "La solución obtenida es la siguiente: 6*7/1-3+4 = 43\n",
            "Para obtener la solucion 44 se han superado el número máximo de iteraciones.\n",
            "Para obtener la solucion 45 se han superado el número máximo de iteraciones.\n",
            "Para obtener la solucion 46 se han superado el número máximo de iteraciones.\n",
            "La solución obtenida es la siguiente: 5*8/1-2+9 = 47\n",
            "La solución obtenida es la siguiente: 8-2+7*6/1 = 48\n",
            "La solución obtenida es la siguiente: 8*6-2/1+3 = 49\n",
            "La solución obtenida es la siguiente: 9*6+4-8/1 = 50\n",
            "Para obtener la solucion 51 se han superado el número máximo de iteraciones.\n",
            "Para obtener la solucion 52 se han superado el número máximo de iteraciones.\n",
            "La solución obtenida es la siguiente: 6*9/1-8+7 = 53\n",
            "La solución obtenida es la siguiente: 9*6+2-8/4 = 54\n",
            "Para obtener la solucion 55 se han superado el número máximo de iteraciones.\n",
            "Para obtener la solucion 56 se han superado el número máximo de iteraciones.\n",
            "Para obtener la solucion 57 se han superado el número máximo de iteraciones.\n",
            "La solución obtenida es la siguiente: 7*9+3-8/1 = 58\n",
            "Para obtener la solucion 59 se han superado el número máximo de iteraciones.\n",
            "Para obtener la solucion 60 se han superado el número máximo de iteraciones.\n",
            "Para obtener la solucion 61 se han superado el número máximo de iteraciones.\n",
            "Para obtener la solucion 62 se han superado el número máximo de iteraciones.\n",
            "Para obtener la solucion 63 se han superado el número máximo de iteraciones.\n",
            "Para obtener la solucion 64 se han superado el número máximo de iteraciones.\n",
            "Para obtener la solucion 65 se han superado el número máximo de iteraciones.\n",
            "Para obtener la solucion 66 se han superado el número máximo de iteraciones.\n",
            "Para obtener la solucion 67 se han superado el número máximo de iteraciones.\n",
            "La solución obtenida es la siguiente: 7/1*9-3+8 = 68\n",
            "Para obtener la solucion 69 se han superado el número máximo de iteraciones.\n",
            "La solución obtenida es la siguiente: 9*8+4/1-6 = 70\n",
            "La solución obtenida es la siguiente: 8*9+6/1-7 = 71\n",
            "Para obtener la solucion 72 se han superado el número máximo de iteraciones.\n",
            "Para obtener la solucion 73 se han superado el número máximo de iteraciones.\n",
            "Para obtener la solucion 74 se han superado el número máximo de iteraciones.\n",
            "La solución obtenida es la siguiente: 7/1-4+8*9 = 75\n",
            "Para obtener la solucion 76 se han superado el número máximo de iteraciones.\n",
            "Para obtener la solucion 77 se han superado el número máximo de iteraciones.\n"
          ]
        }
      ]
    },
    {
      "cell_type": "code",
      "source": [
        "juego_de_pruebas_fuerza_bruta(valor_maximo, valor_minimo, lista_numeros, lista_operadores)"
      ],
      "metadata": {
        "id": "bF8oXKDbZWkU",
        "outputId": "bf635167-5548-4965-b11b-1bde67202f72",
        "colab": {
          "base_uri": "https://localhost:8080/"
        }
      },
      "execution_count": 124,
      "outputs": [
        {
          "output_type": "stream",
          "name": "stdout",
          "text": [
            "No se ha encontrado combinación posible para obtener el valor -70\n",
            "La combinación correcta es la siguiente: 1+4/2-8*9 = -69\n",
            "La combinación correcta es la siguiente: 1+6/2-8*9 = -68\n",
            "La combinación correcta es la siguiente: 2+3-8*9/1 = -67\n",
            "La combinación correcta es la siguiente: 2+4-8*9/1 = -66\n",
            "La combinación correcta es la siguiente: 2+5-8*9/1 = -65\n",
            "La combinación correcta es la siguiente: 2+6-8*9/1 = -64\n",
            "La combinación correcta es la siguiente: 2+7-8*9/1 = -63\n",
            "La combinación correcta es la siguiente: 3+7-8*9/1 = -62\n",
            "La combinación correcta es la siguiente: 4+7-8*9/1 = -61\n",
            "La combinación correcta es la siguiente: 5+7-8*9/1 = -60\n",
            "La combinación correcta es la siguiente: 6+7-8*9/1 = -59\n",
            "La combinación correcta es la siguiente: 2+3-7*9/1 = -58\n",
            "La combinación correcta es la siguiente: 2+4-7*9/1 = -57\n",
            "La combinación correcta es la siguiente: 2+5-7*9/1 = -56\n",
            "La combinación correcta es la siguiente: 2+6-7*9/1 = -55\n",
            "La combinación correcta es la siguiente: 3+6-7*9/1 = -54\n",
            "La combinación correcta es la siguiente: 2+8-7*9/1 = -53\n",
            "La combinación correcta es la siguiente: 3+8-7*9/1 = -52\n",
            "La combinación correcta es la siguiente: 2+3-7*8/1 = -51\n",
            "La combinación correcta es la siguiente: 2+4-7*8/1 = -50\n",
            "La combinación correcta es la siguiente: 2+3-6*9/1 = -49\n",
            "La combinación correcta es la siguiente: 2+4-6*9/1 = -48\n",
            "La combinación correcta es la siguiente: 2+5-6*9/1 = -47\n",
            "La combinación correcta es la siguiente: 3+5-6*9/1 = -46\n",
            "La combinación correcta es la siguiente: 2+7-6*9/1 = -45\n",
            "La combinación correcta es la siguiente: 2+8-6*9/1 = -44\n",
            "La combinación correcta es la siguiente: 2+3-6*8/1 = -43\n",
            "La combinación correcta es la siguiente: 2+4-6*8/1 = -42\n",
            "La combinación correcta es la siguiente: 2+5-6*8/1 = -41\n",
            "La combinación correcta es la siguiente: 2+3-5*9/1 = -40\n",
            "La combinación correcta es la siguiente: 2+4-5*9/1 = -39\n",
            "La combinación correcta es la siguiente: 3+4-5*9/1 = -38\n",
            "La combinación correcta es la siguiente: 2+3-6*7/1 = -37\n",
            "La combinación correcta es la siguiente: 2+4-6*7/1 = -36\n",
            "La combinación correcta es la siguiente: 2+3-5*8/1 = -35\n",
            "La combinación correcta es la siguiente: 2+4-5*8/1 = -34\n",
            "La combinación correcta es la siguiente: 3+4-5*8/1 = -33\n",
            "La combinación correcta es la siguiente: 1+3-8*9/2 = -32\n",
            "La combinación correcta es la siguiente: 1+4-8*9/2 = -31\n",
            "La combinación correcta es la siguiente: 1+5-8*9/2 = -30\n",
            "La combinación correcta es la siguiente: 1+6-8*9/2 = -29\n",
            "La combinación correcta es la siguiente: 1+7-8*9/2 = -28\n",
            "La combinación correcta es la siguiente: 2+3-4*8/1 = -27\n",
            "La combinación correcta es la siguiente: 2+8-4*9/1 = -26\n",
            "La combinación correcta es la siguiente: 2+3-5*6/1 = -25\n",
            "La combinación correcta es la siguiente: 1+3-7*8/2 = -24\n",
            "La combinación correcta es la siguiente: 1+3-6*9/2 = -23\n",
            "La combinación correcta es la siguiente: 1+4-6*9/2 = -22\n",
            "La combinación correcta es la siguiente: 1+2-8*9/3 = -21\n",
            "La combinación correcta es la siguiente: 1+3-6*8/2 = -20\n",
            "La combinación correcta es la siguiente: 1+4-6*8/2 = -19\n",
            "La combinación correcta es la siguiente: 1+2-7*9/3 = -18\n",
            "La combinación correcta es la siguiente: 1+3-6*7/2 = -17\n",
            "La combinación correcta es la siguiente: 1+3-5*8/2 = -16\n",
            "La combinación correcta es la siguiente: 1+2-6*9/3 = -15\n",
            "La combinación correcta es la siguiente: 1+3-4*9/2 = -14\n",
            "La combinación correcta es la siguiente: 1+2-6*8/3 = -13\n",
            "La combinación correcta es la siguiente: 1+2-5*9/3 = -12\n",
            "La combinación correcta es la siguiente: 1+2-6*7/3 = -11\n",
            "La combinación correcta es la siguiente: 1+3-4*7/2 = -10\n",
            "La combinación correcta es la siguiente: 1+2-4*9/3 = -9\n",
            "La combinación correcta es la siguiente: 1+3-4*6/2 = -8\n",
            "La combinación correcta es la siguiente: 1+2-5*6/3 = -7\n",
            "La combinación correcta es la siguiente: 1+3-4*5/2 = -6\n",
            "La combinación correcta es la siguiente: 1+2-4*6/3 = -5\n",
            "La combinación correcta es la siguiente: 1+4-3*6/2 = -4\n",
            "La combinación correcta es la siguiente: 1+2-3*8/4 = -3\n",
            "La combinación correcta es la siguiente: 1+3-4*9/6 = -2\n",
            "La combinación correcta es la siguiente: 1+2-3*8/6 = -1\n",
            "La combinación correcta es la siguiente: 1+2-4*6/8 = 0\n",
            "La combinación correcta es la siguiente: 1+2-3*4/6 = 1\n",
            "La combinación correcta es la siguiente: 1+4-2*9/6 = 2\n",
            "La combinación correcta es la siguiente: 1+3-2*4/8 = 3\n",
            "La combinación correcta es la siguiente: 1+4-2*3/6 = 4\n",
            "La combinación correcta es la siguiente: 1+5-2*3/6 = 5\n",
            "La combinación correcta es la siguiente: 1+6-2*4/8 = 6\n",
            "La combinación correcta es la siguiente: 1+7-2*3/6 = 7\n",
            "La combinación correcta es la siguiente: 1+8-2*3/6 = 8\n",
            "La combinación correcta es la siguiente: 1+9-2*3/6 = 9\n",
            "La combinación correcta es la siguiente: 3+9-1*4/2 = 10\n",
            "La combinación correcta es la siguiente: 3+9-2*4/8 = 11\n",
            "La combinación correcta es la siguiente: 4+9-2*3/6 = 12\n",
            "La combinación correcta es la siguiente: 5+9-2*3/6 = 13\n",
            "La combinación correcta es la siguiente: 6+9-2*4/8 = 14\n",
            "La combinación correcta es la siguiente: 7+9-2*3/6 = 15\n",
            "La combinación correcta es la siguiente: 8+9-2*3/6 = 16\n",
            "La combinación correcta es la siguiente: 1+2*9-6/3 = 17\n",
            "La combinación correcta es la siguiente: 1+3*7-8/2 = 18\n",
            "La combinación correcta es la siguiente: 1+3*7-6/2 = 19\n",
            "La combinación correcta es la siguiente: 1+3*7-4/2 = 20\n",
            "La combinación correcta es la siguiente: 1+4*6-8/2 = 21\n",
            "La combinación correcta es la siguiente: 1+3*8-6/2 = 22\n",
            "La combinación correcta es la siguiente: 1+3*8-4/2 = 23\n",
            "La combinación correcta es la siguiente: 1+3*9-8/2 = 24\n",
            "La combinación correcta es la siguiente: 1+3*9-6/2 = 25\n",
            "La combinación correcta es la siguiente: 1+3*9-4/2 = 26\n",
            "La combinación correcta es la siguiente: 1+4*7-6/3 = 27\n",
            "La combinación correcta es la siguiente: 1+5*6-9/3 = 28\n",
            "La combinación correcta es la siguiente: 1+5*6-4/2 = 29\n",
            "La combinación correcta es la siguiente: 1+4*8-6/2 = 30\n",
            "La combinación correcta es la siguiente: 1+4*8-6/3 = 31\n",
            "La combinación correcta es la siguiente: 1+5*7-8/2 = 32\n",
            "La combinación correcta es la siguiente: 1+4*9-8/2 = 33\n",
            "La combinación correcta es la siguiente: 1+4*9-6/2 = 34\n",
            "La combinación correcta es la siguiente: 1+4*9-6/3 = 35\n",
            "La combinación correcta es la siguiente: 2+4*9-6/3 = 36\n",
            "La combinación correcta es la siguiente: 3+4*9-2/1 = 37\n",
            "La combinación correcta es la siguiente: 1+5*8-6/2 = 38\n",
            "La combinación correcta es la siguiente: 1+5*8-4/2 = 39\n",
            "La combinación correcta es la siguiente: 1+6*7-9/3 = 40\n",
            "La combinación correcta es la siguiente: 1+6*7-4/2 = 41\n",
            "La combinación correcta es la siguiente: 1+5*9-8/2 = 42\n",
            "La combinación correcta es la siguiente: 1+5*9-6/2 = 43\n",
            "La combinación correcta es la siguiente: 1+5*9-4/2 = 44\n",
            "La combinación correcta es la siguiente: 2+5*9-6/3 = 45\n",
            "La combinación correcta es la siguiente: 1+6*8-9/3 = 46\n",
            "La combinación correcta es la siguiente: 1+6*8-4/2 = 47\n",
            "La combinación correcta es la siguiente: 2+6*9-8/1 = 48\n",
            "La combinación correcta es la siguiente: 2+6*9-7/1 = 49\n",
            "La combinación correcta es la siguiente: 3+6*9-7/1 = 50\n",
            "La combinación correcta es la siguiente: 1+6*9-8/2 = 51\n",
            "La combinación correcta es la siguiente: 2+6*9-4/1 = 52\n",
            "La combinación correcta es la siguiente: 1+6*9-4/2 = 53\n",
            "La combinación correcta es la siguiente: 1+7*8-6/2 = 54\n",
            "La combinación correcta es la siguiente: 1+7*8-4/2 = 55\n",
            "La combinación correcta es la siguiente: 2+7*8-6/3 = 56\n",
            "La combinación correcta es la siguiente: 2+7*9-8/1 = 57\n",
            "La combinación correcta es la siguiente: 3+7*9-8/1 = 58\n",
            "La combinación correcta es la siguiente: 2+7*9-6/1 = 59\n",
            "La combinación correcta es la siguiente: 1+7*9-8/2 = 60\n",
            "La combinación correcta es la siguiente: 1+7*9-6/2 = 61\n",
            "La combinación correcta es la siguiente: 1+7*9-4/2 = 62\n",
            "La combinación correcta es la siguiente: 2+7*9-6/3 = 63\n",
            "La combinación correcta es la siguiente: 3+7*9-2/1 = 64\n",
            "La combinación correcta es la siguiente: 4+7*9-2/1 = 65\n",
            "La combinación correcta es la siguiente: 5+7*9-2/1 = 66\n",
            "La combinación correcta es la siguiente: 2+8*9-7/1 = 67\n",
            "La combinación correcta es la siguiente: 2+8*9-6/1 = 68\n",
            "La combinación correcta es la siguiente: 2+8*9-5/1 = 69\n",
            "La combinación correcta es la siguiente: 1+8*9-6/2 = 70\n",
            "La combinación correcta es la siguiente: 1+8*9-4/2 = 71\n",
            "La combinación correcta es la siguiente: 2+8*9-6/3 = 72\n",
            "La combinación correcta es la siguiente: 3+8*9-2/1 = 73\n",
            "La combinación correcta es la siguiente: 4+8*9-2/1 = 74\n",
            "La combinación correcta es la siguiente: 5+8*9-2/1 = 75\n",
            "La combinación correcta es la siguiente: 6+8*9-2/1 = 76\n",
            "La combinación correcta es la siguiente: 7+8*9-2/1 = 77\n"
          ]
        }
      ]
    },
    {
      "cell_type": "markdown",
      "metadata": {
        "id": "eTFWUJQrtGcv"
      },
      "source": [
        "## Pregunta 12:<br>\n",
        "Enumera las referencias que has utilizado(si ha sido necesario) para llevar a cabo el trabajo<br>"
      ]
    },
    {
      "cell_type": "markdown",
      "metadata": {
        "id": "YKQ_mRBttWsP"
      },
      "source": [
        "Para la elaboración del trabajo he tenido que revisar la teoría y práctica dada en clase para poder analizar cuál de los algoritmos se adecuaba para este problema. También he necesitado investigar sobre la librería Itertools que me ha permitido realizar permutaciones en las listas. Como se ha dicho en el trabajo, los conocimientos previos tanto de la asignatura de Python como la de matemáticas han sido de gran ayuda para afrontar el proyecto."
      ]
    }
  ]
}